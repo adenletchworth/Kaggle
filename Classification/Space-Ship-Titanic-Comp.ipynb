{
 "cells": [
  {
   "cell_type": "code",
   "execution_count": 1,
   "id": "e18d0e89",
   "metadata": {
    "_cell_guid": "b1076dfc-b9ad-4769-8c92-a6c4dae69d19",
    "_uuid": "8f2839f25d086af736a60e9eeb907d3b93b6e0e5",
    "execution": {
     "iopub.execute_input": "2024-03-14T03:10:12.849344Z",
     "iopub.status.busy": "2024-03-14T03:10:12.848565Z",
     "iopub.status.idle": "2024-03-14T03:10:15.774731Z",
     "shell.execute_reply": "2024-03-14T03:10:15.772446Z"
    },
    "papermill": {
     "duration": 2.934838,
     "end_time": "2024-03-14T03:10:15.777111",
     "exception": false,
     "start_time": "2024-03-14T03:10:12.842273",
     "status": "completed"
    },
    "tags": []
   },
   "outputs": [
    {
     "name": "stdout",
     "output_type": "stream",
     "text": [
      "/kaggle/input/spaceship-titanic/sample_submission.csv\n",
      "/kaggle/input/spaceship-titanic/train.csv\n",
      "/kaggle/input/spaceship-titanic/test.csv\n"
     ]
    }
   ],
   "source": [
    "# This Python 3 environment comes with many helpful analytics libraries installed\n",
    "# It is defined by the kaggle/python Docker image: https://github.com/kaggle/docker-python\n",
    "# For example, here's several helpful packages to load\n",
    "\n",
    "import numpy as np # linear algebra\n",
    "import pandas as pd # data processing, CSV file I/O (e.g. pd.read_csv)\n",
    "from category_encoders import BinaryEncoder\n",
    "from sklearn.linear_model import LogisticRegression\n",
    "from sklearn.model_selection import train_test_split, RandomizedSearchCV\n",
    "from sklearn.compose import ColumnTransformer\n",
    "from sklearn.pipeline import Pipeline\n",
    "from sklearn.metrics import mean_squared_log_error, accuracy_score, precision_score, recall_score, f1_score, roc_auc_score\n",
    "from sklearn.impute import KNNImputer\n",
    "from sklearn.preprocessing import StandardScaler\n",
    "from xgboost import XGBClassifier\n",
    "\n",
    "# Input data files are available in the read-only \"../input/\" directory\n",
    "# For example, running this (by clicking run or pressing Shift+Enter) will list all files under the input directory\n",
    "\n",
    "import os\n",
    "for dirname, _, filenames in os.walk('/kaggle/input'):\n",
    "    for filename in filenames:\n",
    "        print(os.path.join(dirname, filename))\n",
    "\n",
    "# You can write up to 20GB to the current directory (/kaggle/working/) that gets preserved as output when you create a version using \"Save & Run All\" \n",
    "# You can also write temporary files to /kaggle/temp/, but they won't be saved outside of the current session"
   ]
  },
  {
   "cell_type": "code",
   "execution_count": 2,
   "id": "e51cbfce",
   "metadata": {
    "execution": {
     "iopub.execute_input": "2024-03-14T03:10:15.787012Z",
     "iopub.status.busy": "2024-03-14T03:10:15.786453Z",
     "iopub.status.idle": "2024-03-14T03:10:15.867396Z",
     "shell.execute_reply": "2024-03-14T03:10:15.866250Z"
    },
    "papermill": {
     "duration": 0.088641,
     "end_time": "2024-03-14T03:10:15.870025",
     "exception": false,
     "start_time": "2024-03-14T03:10:15.781384",
     "status": "completed"
    },
    "tags": []
   },
   "outputs": [],
   "source": [
    "df = pd.read_csv('/kaggle/input/spaceship-titanic/train.csv')\n",
    "df_test = pd.read_csv('/kaggle/input/spaceship-titanic/test.csv')"
   ]
  },
  {
   "cell_type": "code",
   "execution_count": 3,
   "id": "3fcd4035",
   "metadata": {
    "execution": {
     "iopub.execute_input": "2024-03-14T03:10:15.879806Z",
     "iopub.status.busy": "2024-03-14T03:10:15.879231Z",
     "iopub.status.idle": "2024-03-14T03:10:15.905328Z",
     "shell.execute_reply": "2024-03-14T03:10:15.904316Z"
    },
    "papermill": {
     "duration": 0.033702,
     "end_time": "2024-03-14T03:10:15.907808",
     "exception": false,
     "start_time": "2024-03-14T03:10:15.874106",
     "status": "completed"
    },
    "tags": []
   },
   "outputs": [
    {
     "data": {
      "text/html": [
       "<div>\n",
       "<style scoped>\n",
       "    .dataframe tbody tr th:only-of-type {\n",
       "        vertical-align: middle;\n",
       "    }\n",
       "\n",
       "    .dataframe tbody tr th {\n",
       "        vertical-align: top;\n",
       "    }\n",
       "\n",
       "    .dataframe thead th {\n",
       "        text-align: right;\n",
       "    }\n",
       "</style>\n",
       "<table border=\"1\" class=\"dataframe\">\n",
       "  <thead>\n",
       "    <tr style=\"text-align: right;\">\n",
       "      <th></th>\n",
       "      <th>PassengerId</th>\n",
       "      <th>HomePlanet</th>\n",
       "      <th>CryoSleep</th>\n",
       "      <th>Cabin</th>\n",
       "      <th>Destination</th>\n",
       "      <th>Age</th>\n",
       "      <th>VIP</th>\n",
       "      <th>RoomService</th>\n",
       "      <th>FoodCourt</th>\n",
       "      <th>ShoppingMall</th>\n",
       "      <th>Spa</th>\n",
       "      <th>VRDeck</th>\n",
       "      <th>Name</th>\n",
       "      <th>Transported</th>\n",
       "    </tr>\n",
       "  </thead>\n",
       "  <tbody>\n",
       "    <tr>\n",
       "      <th>0</th>\n",
       "      <td>0001_01</td>\n",
       "      <td>Europa</td>\n",
       "      <td>False</td>\n",
       "      <td>B/0/P</td>\n",
       "      <td>TRAPPIST-1e</td>\n",
       "      <td>39.0</td>\n",
       "      <td>False</td>\n",
       "      <td>0.0</td>\n",
       "      <td>0.0</td>\n",
       "      <td>0.0</td>\n",
       "      <td>0.0</td>\n",
       "      <td>0.0</td>\n",
       "      <td>Maham Ofracculy</td>\n",
       "      <td>False</td>\n",
       "    </tr>\n",
       "    <tr>\n",
       "      <th>1</th>\n",
       "      <td>0002_01</td>\n",
       "      <td>Earth</td>\n",
       "      <td>False</td>\n",
       "      <td>F/0/S</td>\n",
       "      <td>TRAPPIST-1e</td>\n",
       "      <td>24.0</td>\n",
       "      <td>False</td>\n",
       "      <td>109.0</td>\n",
       "      <td>9.0</td>\n",
       "      <td>25.0</td>\n",
       "      <td>549.0</td>\n",
       "      <td>44.0</td>\n",
       "      <td>Juanna Vines</td>\n",
       "      <td>True</td>\n",
       "    </tr>\n",
       "    <tr>\n",
       "      <th>2</th>\n",
       "      <td>0003_01</td>\n",
       "      <td>Europa</td>\n",
       "      <td>False</td>\n",
       "      <td>A/0/S</td>\n",
       "      <td>TRAPPIST-1e</td>\n",
       "      <td>58.0</td>\n",
       "      <td>True</td>\n",
       "      <td>43.0</td>\n",
       "      <td>3576.0</td>\n",
       "      <td>0.0</td>\n",
       "      <td>6715.0</td>\n",
       "      <td>49.0</td>\n",
       "      <td>Altark Susent</td>\n",
       "      <td>False</td>\n",
       "    </tr>\n",
       "    <tr>\n",
       "      <th>3</th>\n",
       "      <td>0003_02</td>\n",
       "      <td>Europa</td>\n",
       "      <td>False</td>\n",
       "      <td>A/0/S</td>\n",
       "      <td>TRAPPIST-1e</td>\n",
       "      <td>33.0</td>\n",
       "      <td>False</td>\n",
       "      <td>0.0</td>\n",
       "      <td>1283.0</td>\n",
       "      <td>371.0</td>\n",
       "      <td>3329.0</td>\n",
       "      <td>193.0</td>\n",
       "      <td>Solam Susent</td>\n",
       "      <td>False</td>\n",
       "    </tr>\n",
       "    <tr>\n",
       "      <th>4</th>\n",
       "      <td>0004_01</td>\n",
       "      <td>Earth</td>\n",
       "      <td>False</td>\n",
       "      <td>F/1/S</td>\n",
       "      <td>TRAPPIST-1e</td>\n",
       "      <td>16.0</td>\n",
       "      <td>False</td>\n",
       "      <td>303.0</td>\n",
       "      <td>70.0</td>\n",
       "      <td>151.0</td>\n",
       "      <td>565.0</td>\n",
       "      <td>2.0</td>\n",
       "      <td>Willy Santantines</td>\n",
       "      <td>True</td>\n",
       "    </tr>\n",
       "  </tbody>\n",
       "</table>\n",
       "</div>"
      ],
      "text/plain": [
       "  PassengerId HomePlanet CryoSleep  Cabin  Destination   Age    VIP  \\\n",
       "0     0001_01     Europa     False  B/0/P  TRAPPIST-1e  39.0  False   \n",
       "1     0002_01      Earth     False  F/0/S  TRAPPIST-1e  24.0  False   \n",
       "2     0003_01     Europa     False  A/0/S  TRAPPIST-1e  58.0   True   \n",
       "3     0003_02     Europa     False  A/0/S  TRAPPIST-1e  33.0  False   \n",
       "4     0004_01      Earth     False  F/1/S  TRAPPIST-1e  16.0  False   \n",
       "\n",
       "   RoomService  FoodCourt  ShoppingMall     Spa  VRDeck               Name  \\\n",
       "0          0.0        0.0           0.0     0.0     0.0    Maham Ofracculy   \n",
       "1        109.0        9.0          25.0   549.0    44.0       Juanna Vines   \n",
       "2         43.0     3576.0           0.0  6715.0    49.0      Altark Susent   \n",
       "3          0.0     1283.0         371.0  3329.0   193.0       Solam Susent   \n",
       "4        303.0       70.0         151.0   565.0     2.0  Willy Santantines   \n",
       "\n",
       "   Transported  \n",
       "0        False  \n",
       "1         True  \n",
       "2        False  \n",
       "3        False  \n",
       "4         True  "
      ]
     },
     "execution_count": 3,
     "metadata": {},
     "output_type": "execute_result"
    }
   ],
   "source": [
    "df.head()"
   ]
  },
  {
   "cell_type": "code",
   "execution_count": 4,
   "id": "60d9aca4",
   "metadata": {
    "execution": {
     "iopub.execute_input": "2024-03-14T03:10:15.918152Z",
     "iopub.status.busy": "2024-03-14T03:10:15.917782Z",
     "iopub.status.idle": "2024-03-14T03:10:15.945893Z",
     "shell.execute_reply": "2024-03-14T03:10:15.944745Z"
    },
    "papermill": {
     "duration": 0.035891,
     "end_time": "2024-03-14T03:10:15.948147",
     "exception": false,
     "start_time": "2024-03-14T03:10:15.912256",
     "status": "completed"
    },
    "tags": []
   },
   "outputs": [
    {
     "name": "stdout",
     "output_type": "stream",
     "text": [
      "<class 'pandas.core.frame.DataFrame'>\n",
      "RangeIndex: 8693 entries, 0 to 8692\n",
      "Data columns (total 14 columns):\n",
      " #   Column        Non-Null Count  Dtype  \n",
      "---  ------        --------------  -----  \n",
      " 0   PassengerId   8693 non-null   object \n",
      " 1   HomePlanet    8492 non-null   object \n",
      " 2   CryoSleep     8476 non-null   object \n",
      " 3   Cabin         8494 non-null   object \n",
      " 4   Destination   8511 non-null   object \n",
      " 5   Age           8514 non-null   float64\n",
      " 6   VIP           8490 non-null   object \n",
      " 7   RoomService   8512 non-null   float64\n",
      " 8   FoodCourt     8510 non-null   float64\n",
      " 9   ShoppingMall  8485 non-null   float64\n",
      " 10  Spa           8510 non-null   float64\n",
      " 11  VRDeck        8505 non-null   float64\n",
      " 12  Name          8493 non-null   object \n",
      " 13  Transported   8693 non-null   bool   \n",
      "dtypes: bool(1), float64(6), object(7)\n",
      "memory usage: 891.5+ KB\n"
     ]
    }
   ],
   "source": [
    "df.info()"
   ]
  },
  {
   "cell_type": "code",
   "execution_count": 5,
   "id": "80de132f",
   "metadata": {
    "execution": {
     "iopub.execute_input": "2024-03-14T03:10:15.958919Z",
     "iopub.status.busy": "2024-03-14T03:10:15.958088Z",
     "iopub.status.idle": "2024-03-14T03:10:15.969665Z",
     "shell.execute_reply": "2024-03-14T03:10:15.968645Z"
    },
    "papermill": {
     "duration": 0.019298,
     "end_time": "2024-03-14T03:10:15.971865",
     "exception": false,
     "start_time": "2024-03-14T03:10:15.952567",
     "status": "completed"
    },
    "tags": []
   },
   "outputs": [
    {
     "data": {
      "text/plain": [
       "PassengerId       0\n",
       "HomePlanet      201\n",
       "CryoSleep       217\n",
       "Cabin           199\n",
       "Destination     182\n",
       "Age             179\n",
       "VIP             203\n",
       "RoomService     181\n",
       "FoodCourt       183\n",
       "ShoppingMall    208\n",
       "Spa             183\n",
       "VRDeck          188\n",
       "Name            200\n",
       "Transported       0\n",
       "dtype: int64"
      ]
     },
     "execution_count": 5,
     "metadata": {},
     "output_type": "execute_result"
    }
   ],
   "source": [
    "df.isna().sum()"
   ]
  },
  {
   "cell_type": "code",
   "execution_count": 6,
   "id": "af1e98e5",
   "metadata": {
    "execution": {
     "iopub.execute_input": "2024-03-14T03:10:15.983177Z",
     "iopub.status.busy": "2024-03-14T03:10:15.982690Z",
     "iopub.status.idle": "2024-03-14T03:10:15.992083Z",
     "shell.execute_reply": "2024-03-14T03:10:15.990965Z"
    },
    "papermill": {
     "duration": 0.01776,
     "end_time": "2024-03-14T03:10:15.994119",
     "exception": false,
     "start_time": "2024-03-14T03:10:15.976359",
     "status": "completed"
    },
    "tags": []
   },
   "outputs": [
    {
     "name": "stdout",
     "output_type": "stream",
     "text": [
      "HomePlanet: 4 \n",
      "Cabin: 6561\n",
      "Destination:4\n",
      "Name:8474\n"
     ]
    }
   ],
   "source": [
    "print(f'HomePlanet: {len(df.HomePlanet.unique())} \\nCabin: {len(df.Cabin.unique())}\\nDestination:{len(df.Destination.unique())}\\nName:{len(df.Name.unique())}')"
   ]
  },
  {
   "cell_type": "markdown",
   "id": "f24a26de",
   "metadata": {
    "papermill": {
     "duration": 0.004221,
     "end_time": "2024-03-14T03:10:16.002962",
     "exception": false,
     "start_time": "2024-03-14T03:10:15.998741",
     "status": "completed"
    },
    "tags": []
   },
   "source": [
    "## Stratedgy\n",
    "\n",
    "- Split cabin on '/'\n",
    "- Split destination on '-'\n",
    "- Split name into first, last\n",
    "- Encode and Impute accordingly"
   ]
  },
  {
   "cell_type": "code",
   "execution_count": 7,
   "id": "61bd76c7",
   "metadata": {
    "execution": {
     "iopub.execute_input": "2024-03-14T03:10:16.014280Z",
     "iopub.status.busy": "2024-03-14T03:10:16.013241Z",
     "iopub.status.idle": "2024-03-14T03:10:16.080278Z",
     "shell.execute_reply": "2024-03-14T03:10:16.079253Z"
    },
    "papermill": {
     "duration": 0.075347,
     "end_time": "2024-03-14T03:10:16.082689",
     "exception": false,
     "start_time": "2024-03-14T03:10:16.007342",
     "status": "completed"
    },
    "tags": []
   },
   "outputs": [
    {
     "data": {
      "text/html": [
       "<div>\n",
       "<style scoped>\n",
       "    .dataframe tbody tr th:only-of-type {\n",
       "        vertical-align: middle;\n",
       "    }\n",
       "\n",
       "    .dataframe tbody tr th {\n",
       "        vertical-align: top;\n",
       "    }\n",
       "\n",
       "    .dataframe thead th {\n",
       "        text-align: right;\n",
       "    }\n",
       "</style>\n",
       "<table border=\"1\" class=\"dataframe\">\n",
       "  <thead>\n",
       "    <tr style=\"text-align: right;\">\n",
       "      <th></th>\n",
       "      <th>PassengerId</th>\n",
       "      <th>HomePlanet</th>\n",
       "      <th>CryoSleep</th>\n",
       "      <th>Age</th>\n",
       "      <th>VIP</th>\n",
       "      <th>RoomService</th>\n",
       "      <th>FoodCourt</th>\n",
       "      <th>ShoppingMall</th>\n",
       "      <th>Spa</th>\n",
       "      <th>VRDeck</th>\n",
       "      <th>Transported</th>\n",
       "      <th>Cabin1</th>\n",
       "      <th>Cabin2</th>\n",
       "      <th>Cabin3</th>\n",
       "      <th>Destination1</th>\n",
       "      <th>Destination2</th>\n",
       "      <th>FirstName</th>\n",
       "      <th>LastName</th>\n",
       "    </tr>\n",
       "  </thead>\n",
       "  <tbody>\n",
       "    <tr>\n",
       "      <th>0</th>\n",
       "      <td>0001_01</td>\n",
       "      <td>Europa</td>\n",
       "      <td>False</td>\n",
       "      <td>39.0</td>\n",
       "      <td>False</td>\n",
       "      <td>0.0</td>\n",
       "      <td>0.0</td>\n",
       "      <td>0.0</td>\n",
       "      <td>0.0</td>\n",
       "      <td>0.0</td>\n",
       "      <td>False</td>\n",
       "      <td>B</td>\n",
       "      <td>0</td>\n",
       "      <td>P</td>\n",
       "      <td>TRAPPIST</td>\n",
       "      <td>1e</td>\n",
       "      <td>Maham</td>\n",
       "      <td>Ofracculy</td>\n",
       "    </tr>\n",
       "    <tr>\n",
       "      <th>1</th>\n",
       "      <td>0002_01</td>\n",
       "      <td>Earth</td>\n",
       "      <td>False</td>\n",
       "      <td>24.0</td>\n",
       "      <td>False</td>\n",
       "      <td>109.0</td>\n",
       "      <td>9.0</td>\n",
       "      <td>25.0</td>\n",
       "      <td>549.0</td>\n",
       "      <td>44.0</td>\n",
       "      <td>True</td>\n",
       "      <td>F</td>\n",
       "      <td>0</td>\n",
       "      <td>S</td>\n",
       "      <td>TRAPPIST</td>\n",
       "      <td>1e</td>\n",
       "      <td>Juanna</td>\n",
       "      <td>Vines</td>\n",
       "    </tr>\n",
       "    <tr>\n",
       "      <th>2</th>\n",
       "      <td>0003_01</td>\n",
       "      <td>Europa</td>\n",
       "      <td>False</td>\n",
       "      <td>58.0</td>\n",
       "      <td>True</td>\n",
       "      <td>43.0</td>\n",
       "      <td>3576.0</td>\n",
       "      <td>0.0</td>\n",
       "      <td>6715.0</td>\n",
       "      <td>49.0</td>\n",
       "      <td>False</td>\n",
       "      <td>A</td>\n",
       "      <td>0</td>\n",
       "      <td>S</td>\n",
       "      <td>TRAPPIST</td>\n",
       "      <td>1e</td>\n",
       "      <td>Altark</td>\n",
       "      <td>Susent</td>\n",
       "    </tr>\n",
       "    <tr>\n",
       "      <th>3</th>\n",
       "      <td>0003_02</td>\n",
       "      <td>Europa</td>\n",
       "      <td>False</td>\n",
       "      <td>33.0</td>\n",
       "      <td>False</td>\n",
       "      <td>0.0</td>\n",
       "      <td>1283.0</td>\n",
       "      <td>371.0</td>\n",
       "      <td>3329.0</td>\n",
       "      <td>193.0</td>\n",
       "      <td>False</td>\n",
       "      <td>A</td>\n",
       "      <td>0</td>\n",
       "      <td>S</td>\n",
       "      <td>TRAPPIST</td>\n",
       "      <td>1e</td>\n",
       "      <td>Solam</td>\n",
       "      <td>Susent</td>\n",
       "    </tr>\n",
       "    <tr>\n",
       "      <th>4</th>\n",
       "      <td>0004_01</td>\n",
       "      <td>Earth</td>\n",
       "      <td>False</td>\n",
       "      <td>16.0</td>\n",
       "      <td>False</td>\n",
       "      <td>303.0</td>\n",
       "      <td>70.0</td>\n",
       "      <td>151.0</td>\n",
       "      <td>565.0</td>\n",
       "      <td>2.0</td>\n",
       "      <td>True</td>\n",
       "      <td>F</td>\n",
       "      <td>1</td>\n",
       "      <td>S</td>\n",
       "      <td>TRAPPIST</td>\n",
       "      <td>1e</td>\n",
       "      <td>Willy</td>\n",
       "      <td>Santantines</td>\n",
       "    </tr>\n",
       "  </tbody>\n",
       "</table>\n",
       "</div>"
      ],
      "text/plain": [
       "  PassengerId HomePlanet CryoSleep   Age    VIP  RoomService  FoodCourt  \\\n",
       "0     0001_01     Europa     False  39.0  False          0.0        0.0   \n",
       "1     0002_01      Earth     False  24.0  False        109.0        9.0   \n",
       "2     0003_01     Europa     False  58.0   True         43.0     3576.0   \n",
       "3     0003_02     Europa     False  33.0  False          0.0     1283.0   \n",
       "4     0004_01      Earth     False  16.0  False        303.0       70.0   \n",
       "\n",
       "   ShoppingMall     Spa  VRDeck  Transported Cabin1 Cabin2 Cabin3  \\\n",
       "0           0.0     0.0     0.0        False      B      0      P   \n",
       "1          25.0   549.0    44.0         True      F      0      S   \n",
       "2           0.0  6715.0    49.0        False      A      0      S   \n",
       "3         371.0  3329.0   193.0        False      A      0      S   \n",
       "4         151.0   565.0     2.0         True      F      1      S   \n",
       "\n",
       "  Destination1 Destination2 FirstName     LastName  \n",
       "0     TRAPPIST           1e     Maham    Ofracculy  \n",
       "1     TRAPPIST           1e    Juanna        Vines  \n",
       "2     TRAPPIST           1e    Altark       Susent  \n",
       "3     TRAPPIST           1e     Solam       Susent  \n",
       "4     TRAPPIST           1e     Willy  Santantines  "
      ]
     },
     "execution_count": 7,
     "metadata": {},
     "output_type": "execute_result"
    }
   ],
   "source": [
    "df[['Cabin1', 'Cabin2', 'Cabin3']] = df['Cabin'].str.split('/', expand=True)\n",
    "df[['Destination1', 'Destination2']] = df['Destination'].str.split('-', expand=True)\n",
    "df[['FirstName', 'LastName']] = df['Name'].str.split(' ', expand=True)\n",
    "\n",
    "df.drop(['Cabin', 'Destination', 'Name'], axis=1, inplace=True)\n",
    "\n",
    "df.head()"
   ]
  },
  {
   "cell_type": "code",
   "execution_count": 8,
   "id": "d2b209f0",
   "metadata": {
    "execution": {
     "iopub.execute_input": "2024-03-14T03:10:16.093695Z",
     "iopub.status.busy": "2024-03-14T03:10:16.093315Z",
     "iopub.status.idle": "2024-03-14T03:10:16.104229Z",
     "shell.execute_reply": "2024-03-14T03:10:16.103178Z"
    },
    "papermill": {
     "duration": 0.018951,
     "end_time": "2024-03-14T03:10:16.106450",
     "exception": false,
     "start_time": "2024-03-14T03:10:16.087499",
     "status": "completed"
    },
    "tags": []
   },
   "outputs": [
    {
     "name": "stdout",
     "output_type": "stream",
     "text": [
      "Cabin1: 9 \n",
      "Cabin2: 1818\n",
      "Cabin3: 3\n",
      "Destination1: 4\n",
      "Destination2: 4\n",
      "FirstName: 2707\n",
      "LastName: 2218\n"
     ]
    }
   ],
   "source": [
    "print(f\"Cabin1: {len(df.Cabin1.unique())} \\nCabin2: {len(df.Cabin2.unique())}\\nCabin3: {len(df.Cabin3.unique())}\\nDestination1: {len(df.Destination1.unique())}\\nDestination2: {len(df.Destination2.unique())}\\nFirstName: {len(df.FirstName.unique())}\\nLastName: {len(df.LastName.unique())}\")"
   ]
  },
  {
   "cell_type": "code",
   "execution_count": 9,
   "id": "f5674734",
   "metadata": {
    "execution": {
     "iopub.execute_input": "2024-03-14T03:10:16.118037Z",
     "iopub.status.busy": "2024-03-14T03:10:16.117683Z",
     "iopub.status.idle": "2024-03-14T03:10:16.359343Z",
     "shell.execute_reply": "2024-03-14T03:10:16.358591Z"
    },
    "papermill": {
     "duration": 0.249713,
     "end_time": "2024-03-14T03:10:16.361380",
     "exception": false,
     "start_time": "2024-03-14T03:10:16.111667",
     "status": "completed"
    },
    "tags": []
   },
   "outputs": [
    {
     "data": {
      "text/plain": [
       "Index(['PassengerId', 'HomePlanet_0', 'HomePlanet_1', 'HomePlanet_2',\n",
       "       'CryoSleep', 'Age', 'VIP_0', 'RoomService', 'FoodCourt', 'ShoppingMall',\n",
       "       'Spa', 'VRDeck', 'Transported', 'Cabin1_0', 'Cabin1_1', 'Cabin1_2',\n",
       "       'Cabin1_3', 'Cabin2', 'Cabin3_0', 'Cabin3_1', 'Destination1_0',\n",
       "       'Destination1_1', 'Destination1_2', 'Destination2_0', 'Destination2_1',\n",
       "       'FirstName_0', 'FirstName_1', 'FirstName_2', 'FirstName_3',\n",
       "       'FirstName_4', 'FirstName_5', 'FirstName_6', 'FirstName_7',\n",
       "       'FirstName_8', 'FirstName_9', 'FirstName_10', 'FirstName_11',\n",
       "       'LastName_0', 'LastName_1', 'LastName_2', 'LastName_3', 'LastName_4',\n",
       "       'LastName_5', 'LastName_6', 'LastName_7', 'LastName_8', 'LastName_9',\n",
       "       'LastName_10', 'LastName_11'],\n",
       "      dtype='object')"
      ]
     },
     "execution_count": 9,
     "metadata": {},
     "output_type": "execute_result"
    }
   ],
   "source": [
    "encoder = BinaryEncoder(cols=['FirstName', 'LastName', 'Cabin1', 'Cabin3', 'Destination1', 'Destination2','VIP', 'HomePlanet'], return_df=True)\n",
    "df = encoder.fit_transform(df)\n",
    "\n",
    "df.drop(['VIP_1'], axis=1,inplace=True)\n",
    "\n",
    "df.columns"
   ]
  },
  {
   "cell_type": "code",
   "execution_count": 10,
   "id": "4a265588",
   "metadata": {
    "execution": {
     "iopub.execute_input": "2024-03-14T03:10:16.373561Z",
     "iopub.status.busy": "2024-03-14T03:10:16.372671Z",
     "iopub.status.idle": "2024-03-14T03:10:16.387145Z",
     "shell.execute_reply": "2024-03-14T03:10:16.386321Z"
    },
    "papermill": {
     "duration": 0.022938,
     "end_time": "2024-03-14T03:10:16.389325",
     "exception": false,
     "start_time": "2024-03-14T03:10:16.366387",
     "status": "completed"
    },
    "tags": []
   },
   "outputs": [],
   "source": [
    "scaled_cols = ['Age', 'RoomService', 'FoodCourt']\n",
    "\n",
    "X,y = df.drop(['Transported'],axis=1), df['Transported'].astype(int)\n",
    "X_train, X_test, Y_train, Y_test = train_test_split(X, y, test_size=0.3, random_state=42)"
   ]
  },
  {
   "cell_type": "code",
   "execution_count": 11,
   "id": "9315d108",
   "metadata": {
    "execution": {
     "iopub.execute_input": "2024-03-14T03:10:16.401132Z",
     "iopub.status.busy": "2024-03-14T03:10:16.400773Z",
     "iopub.status.idle": "2024-03-14T03:11:10.780566Z",
     "shell.execute_reply": "2024-03-14T03:11:10.779473Z"
    },
    "papermill": {
     "duration": 54.393297,
     "end_time": "2024-03-14T03:11:10.787692",
     "exception": false,
     "start_time": "2024-03-14T03:10:16.394395",
     "status": "completed"
    },
    "tags": []
   },
   "outputs": [
    {
     "name": "stdout",
     "output_type": "stream",
     "text": [
      "Accuracy: 0.7960122699386503\n",
      "Precision: 0.7904059040590405\n",
      "Recall: 0.8119787717968158\n",
      "F1 Score: 0.8010471204188481\n",
      "ROC-AUC Score: 0.8897506221359835\n"
     ]
    }
   ],
   "source": [
    "# params = {\n",
    "#     'impute__n_neighbors': [3, 5, 7], \n",
    "#     'impute__weights': ['uniform', 'distance'],\n",
    "#     'logreg__C': [0.01, 0.1, 1, 10, 100],\n",
    "#     'logreg__solver': ['liblinear', 'saga', 'lbfgs', 'newton-cg'],\n",
    "#     'logreg__max_iter': [100, 200, 300, 400, 500, 600],\n",
    "#     'logreg__penalty': ['l1', 'l2', 'none'],\n",
    "# }\n",
    "\n",
    "params = {\n",
    "    'impute__n_neighbors': [3, 5, 7], \n",
    "    'impute__weights': ['uniform', 'distance'],\n",
    "    'xgb__n_estimators': [100, 200, 300],\n",
    "    'xgb__max_depth': [3, 4, 5, 6],\n",
    "    'xgb__learning_rate': [0.01, 0.1, 0.2],\n",
    "    'xgb__subsample': [0.7, 0.8, 0.9],\n",
    "    'xgb__colsample_bytree': [0.7, 0.8, 0.9],\n",
    "}\n",
    "\n",
    "\n",
    "\n",
    "col_transformer = ColumnTransformer([\n",
    "    ('scaler', StandardScaler(), [5,7,8])\n",
    "    ], remainder='passthrough'\n",
    ")\n",
    "\n",
    "pipeline = Pipeline([\n",
    "    ('impute', KNNImputer()),\n",
    "    ('ct', col_transformer),\n",
    "    ('xgb', XGBClassifier(use_label_encoder=False, eval_metric='logloss'))\n",
    "])\n",
    "\n",
    "\n",
    "clf = RandomizedSearchCV(pipeline, params, cv=5, verbose=0)\n",
    "\n",
    "best_model = clf.fit(X_train, Y_train)\n",
    "\n",
    "Y_pred = best_model.predict(X_test)\n",
    "\n",
    "Y_proba = best_model.predict_proba(X_test)[:, 1]\n",
    "\n",
    "accuracy = accuracy_score(Y_test, Y_pred)\n",
    "print(f\"Accuracy: {accuracy}\")\n",
    "\n",
    "precision = precision_score(Y_test, Y_pred)\n",
    "print(f\"Precision: {precision}\")\n",
    "\n",
    "recall = recall_score(Y_test, Y_pred)\n",
    "print(f\"Recall: {recall}\")\n",
    "\n",
    "f1 = f1_score(Y_test, Y_pred)\n",
    "print(f\"F1 Score: {f1}\")\n",
    "\n",
    "roc_auc = roc_auc_score(Y_test, Y_proba)\n",
    "print(f\"ROC-AUC Score: {roc_auc}\")\n"
   ]
  },
  {
   "cell_type": "code",
   "execution_count": 12,
   "id": "144d810e",
   "metadata": {
    "execution": {
     "iopub.execute_input": "2024-03-14T03:11:10.800059Z",
     "iopub.status.busy": "2024-03-14T03:11:10.799440Z",
     "iopub.status.idle": "2024-03-14T03:11:11.610079Z",
     "shell.execute_reply": "2024-03-14T03:11:11.609092Z"
    },
    "papermill": {
     "duration": 0.819837,
     "end_time": "2024-03-14T03:11:11.612661",
     "exception": false,
     "start_time": "2024-03-14T03:11:10.792824",
     "status": "completed"
    },
    "tags": []
   },
   "outputs": [],
   "source": [
    "df_test[['Cabin1', 'Cabin2', 'Cabin3']] = df_test['Cabin'].str.split('/', expand=True)\n",
    "df_test[['Destination1', 'Destination2']] = df_test['Destination'].str.split('-', expand=True)\n",
    "df_test[['FirstName', 'LastName']] = df_test['Name'].str.split(' ', expand=True)\n",
    "df_test.drop(['Cabin', 'Destination', 'Name'], axis=1, inplace=True)\n",
    "encoder = BinaryEncoder(cols=['FirstName', 'LastName', 'Cabin1', 'Cabin3', 'Destination1', 'Destination2','VIP', 'HomePlanet'], return_df=True)\n",
    "df_test = encoder.fit_transform(df_test)\n",
    "df_test.drop(['VIP_1'], axis=1,inplace=True)\n",
    "df_test['LastName_11'] = 0\n",
    "\n",
    "preds = best_model.predict(df_test)"
   ]
  },
  {
   "cell_type": "code",
   "execution_count": 13,
   "id": "0fca4fb7",
   "metadata": {
    "execution": {
     "iopub.execute_input": "2024-03-14T03:11:11.624550Z",
     "iopub.status.busy": "2024-03-14T03:11:11.624186Z",
     "iopub.status.idle": "2024-03-14T03:11:11.637352Z",
     "shell.execute_reply": "2024-03-14T03:11:11.636375Z"
    },
    "papermill": {
     "duration": 0.021704,
     "end_time": "2024-03-14T03:11:11.639781",
     "exception": false,
     "start_time": "2024-03-14T03:11:11.618077",
     "status": "completed"
    },
    "tags": []
   },
   "outputs": [],
   "source": [
    "preds = preds.astype(bool)\n",
    "df_test['Transported'] = preds\n",
    "submission_df = df_test[['PassengerId', 'Transported']]\n",
    "submission_df.to_csv('submission.csv', index=False)"
   ]
  }
 ],
 "metadata": {
  "kaggle": {
   "accelerator": "none",
   "dataSources": [
    {
     "databundleVersionId": 3220602,
     "sourceId": 34377,
     "sourceType": "competition"
    }
   ],
   "dockerImageVersionId": 30664,
   "isGpuEnabled": false,
   "isInternetEnabled": true,
   "language": "python",
   "sourceType": "notebook"
  },
  "kernelspec": {
   "display_name": "Python 3",
   "language": "python",
   "name": "python3"
  },
  "language_info": {
   "codemirror_mode": {
    "name": "ipython",
    "version": 3
   },
   "file_extension": ".py",
   "mimetype": "text/x-python",
   "name": "python",
   "nbconvert_exporter": "python",
   "pygments_lexer": "ipython3",
   "version": "3.10.13"
  },
  "papermill": {
   "default_parameters": {},
   "duration": 62.047906,
   "end_time": "2024-03-14T03:11:12.266561",
   "environment_variables": {},
   "exception": null,
   "input_path": "__notebook__.ipynb",
   "output_path": "__notebook__.ipynb",
   "parameters": {},
   "start_time": "2024-03-14T03:10:10.218655",
   "version": "2.5.0"
  }
 },
 "nbformat": 4,
 "nbformat_minor": 5
}
