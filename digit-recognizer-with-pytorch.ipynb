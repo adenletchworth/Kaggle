{
 "cells": [
  {
   "cell_type": "code",
   "execution_count": 1,
   "id": "26854826",
   "metadata": {
    "_cell_guid": "b1076dfc-b9ad-4769-8c92-a6c4dae69d19",
    "_uuid": "8f2839f25d086af736a60e9eeb907d3b93b6e0e5",
    "execution": {
     "iopub.execute_input": "2024-04-02T02:42:42.214658Z",
     "iopub.status.busy": "2024-04-02T02:42:42.214208Z",
     "iopub.status.idle": "2024-04-02T02:42:59.593532Z",
     "shell.execute_reply": "2024-04-02T02:42:59.592470Z"
    },
    "papermill": {
     "duration": 17.390813,
     "end_time": "2024-04-02T02:42:59.595675",
     "exception": false,
     "start_time": "2024-04-02T02:42:42.204862",
     "status": "completed"
    },
    "tags": []
   },
   "outputs": [
    {
     "name": "stderr",
     "output_type": "stream",
     "text": [
      "2024-04-02 02:42:52.037305: E external/local_xla/xla/stream_executor/cuda/cuda_dnn.cc:9261] Unable to register cuDNN factory: Attempting to register factory for plugin cuDNN when one has already been registered\n",
      "2024-04-02 02:42:52.037400: E external/local_xla/xla/stream_executor/cuda/cuda_fft.cc:607] Unable to register cuFFT factory: Attempting to register factory for plugin cuFFT when one has already been registered\n",
      "2024-04-02 02:42:52.163237: E external/local_xla/xla/stream_executor/cuda/cuda_blas.cc:1515] Unable to register cuBLAS factory: Attempting to register factory for plugin cuBLAS when one has already been registered\n"
     ]
    },
    {
     "name": "stdout",
     "output_type": "stream",
     "text": [
      "/kaggle/input/digit-recognizer/sample_submission.csv\n",
      "/kaggle/input/digit-recognizer/train.csv\n",
      "/kaggle/input/digit-recognizer/test.csv\n",
      "cuda:0\n"
     ]
    }
   ],
   "source": [
    "# This Python 3 environment comes with many helpful analytics libraries installed\n",
    "# It is defined by the kaggle/python Docker image: https://github.com/kaggle/docker-python\n",
    "# For example, here's several helpful packages to load\n",
    "\n",
    "import numpy as np # linear algebra\n",
    "import pandas as pd # data processing, CSV file I/O (e.g. pd.read_csv)\n",
    "import torch\n",
    "import torch.optim as optim\n",
    "import torch.nn as nn\n",
    "from torch.utils.data import Dataset, DataLoader\n",
    "from sklearn.model_selection import train_test_split, StratifiedKFold\n",
    "import matplotlib.pyplot as plt\n",
    "from torchvision import transforms\n",
    "from torch.utils.tensorboard import SummaryWriter\n",
    "from torchvision.transforms import ToPILImage\n",
    "import random\n",
    "\n",
    "import warnings\n",
    "warnings.filterwarnings(\"ignore\")\n",
    "\n",
    "device = torch.device('cuda:0' if torch.cuda.is_available() else cpu)\n",
    "\n",
    "seed = 2002\n",
    "torch.manual_seed(seed)\n",
    "np.random.seed(seed)\n",
    "random.seed(seed)\n",
    "if torch.cuda.is_available():\n",
    "    torch.cuda.manual_seed_all(seed)\n",
    "\n",
    "# Input data files are available in the read-only \"../input/\" directory\n",
    "# For example, running this (by clicking run or pressing Shift+Enter) will list all files under the input directory\n",
    "\n",
    "import os\n",
    "for dirname, _, filenames in os.walk('/kaggle/input'):\n",
    "    for filename in filenames:\n",
    "        print(os.path.join(dirname, filename))\n",
    "        \n",
    "print(device)\n",
    "\n",
    "# You can write up to 20GB to the current directory (/kaggle/working/) that gets preserved as output when you create a version using \"Save & Run All\" \n",
    "# You can also write temporary files to /kaggle/temp/, but they won't be saved outside of the current session"
   ]
  },
  {
   "cell_type": "code",
   "execution_count": 2,
   "id": "c29a4c54",
   "metadata": {
    "execution": {
     "iopub.execute_input": "2024-04-02T02:42:59.612789Z",
     "iopub.status.busy": "2024-04-02T02:42:59.612233Z",
     "iopub.status.idle": "2024-04-02T02:43:03.197069Z",
     "shell.execute_reply": "2024-04-02T02:43:03.196032Z"
    },
    "papermill": {
     "duration": 3.595794,
     "end_time": "2024-04-02T02:43:03.199493",
     "exception": false,
     "start_time": "2024-04-02T02:42:59.603699",
     "status": "completed"
    },
    "tags": []
   },
   "outputs": [],
   "source": [
    "df = pd.read_csv('/kaggle/input/digit-recognizer/train.csv')"
   ]
  },
  {
   "cell_type": "code",
   "execution_count": 3,
   "id": "9c71fcdb",
   "metadata": {
    "execution": {
     "iopub.execute_input": "2024-04-02T02:43:03.223459Z",
     "iopub.status.busy": "2024-04-02T02:43:03.223072Z",
     "iopub.status.idle": "2024-04-02T02:43:03.244180Z",
     "shell.execute_reply": "2024-04-02T02:43:03.243356Z"
    },
    "papermill": {
     "duration": 0.032175,
     "end_time": "2024-04-02T02:43:03.246023",
     "exception": false,
     "start_time": "2024-04-02T02:43:03.213848",
     "status": "completed"
    },
    "tags": []
   },
   "outputs": [
    {
     "data": {
      "text/html": [
       "<div>\n",
       "<style scoped>\n",
       "    .dataframe tbody tr th:only-of-type {\n",
       "        vertical-align: middle;\n",
       "    }\n",
       "\n",
       "    .dataframe tbody tr th {\n",
       "        vertical-align: top;\n",
       "    }\n",
       "\n",
       "    .dataframe thead th {\n",
       "        text-align: right;\n",
       "    }\n",
       "</style>\n",
       "<table border=\"1\" class=\"dataframe\">\n",
       "  <thead>\n",
       "    <tr style=\"text-align: right;\">\n",
       "      <th></th>\n",
       "      <th>label</th>\n",
       "      <th>pixel0</th>\n",
       "      <th>pixel1</th>\n",
       "      <th>pixel2</th>\n",
       "      <th>pixel3</th>\n",
       "      <th>pixel4</th>\n",
       "      <th>pixel5</th>\n",
       "      <th>pixel6</th>\n",
       "      <th>pixel7</th>\n",
       "      <th>pixel8</th>\n",
       "      <th>...</th>\n",
       "      <th>pixel774</th>\n",
       "      <th>pixel775</th>\n",
       "      <th>pixel776</th>\n",
       "      <th>pixel777</th>\n",
       "      <th>pixel778</th>\n",
       "      <th>pixel779</th>\n",
       "      <th>pixel780</th>\n",
       "      <th>pixel781</th>\n",
       "      <th>pixel782</th>\n",
       "      <th>pixel783</th>\n",
       "    </tr>\n",
       "  </thead>\n",
       "  <tbody>\n",
       "    <tr>\n",
       "      <th>0</th>\n",
       "      <td>1</td>\n",
       "      <td>0</td>\n",
       "      <td>0</td>\n",
       "      <td>0</td>\n",
       "      <td>0</td>\n",
       "      <td>0</td>\n",
       "      <td>0</td>\n",
       "      <td>0</td>\n",
       "      <td>0</td>\n",
       "      <td>0</td>\n",
       "      <td>...</td>\n",
       "      <td>0</td>\n",
       "      <td>0</td>\n",
       "      <td>0</td>\n",
       "      <td>0</td>\n",
       "      <td>0</td>\n",
       "      <td>0</td>\n",
       "      <td>0</td>\n",
       "      <td>0</td>\n",
       "      <td>0</td>\n",
       "      <td>0</td>\n",
       "    </tr>\n",
       "    <tr>\n",
       "      <th>1</th>\n",
       "      <td>0</td>\n",
       "      <td>0</td>\n",
       "      <td>0</td>\n",
       "      <td>0</td>\n",
       "      <td>0</td>\n",
       "      <td>0</td>\n",
       "      <td>0</td>\n",
       "      <td>0</td>\n",
       "      <td>0</td>\n",
       "      <td>0</td>\n",
       "      <td>...</td>\n",
       "      <td>0</td>\n",
       "      <td>0</td>\n",
       "      <td>0</td>\n",
       "      <td>0</td>\n",
       "      <td>0</td>\n",
       "      <td>0</td>\n",
       "      <td>0</td>\n",
       "      <td>0</td>\n",
       "      <td>0</td>\n",
       "      <td>0</td>\n",
       "    </tr>\n",
       "    <tr>\n",
       "      <th>2</th>\n",
       "      <td>1</td>\n",
       "      <td>0</td>\n",
       "      <td>0</td>\n",
       "      <td>0</td>\n",
       "      <td>0</td>\n",
       "      <td>0</td>\n",
       "      <td>0</td>\n",
       "      <td>0</td>\n",
       "      <td>0</td>\n",
       "      <td>0</td>\n",
       "      <td>...</td>\n",
       "      <td>0</td>\n",
       "      <td>0</td>\n",
       "      <td>0</td>\n",
       "      <td>0</td>\n",
       "      <td>0</td>\n",
       "      <td>0</td>\n",
       "      <td>0</td>\n",
       "      <td>0</td>\n",
       "      <td>0</td>\n",
       "      <td>0</td>\n",
       "    </tr>\n",
       "    <tr>\n",
       "      <th>3</th>\n",
       "      <td>4</td>\n",
       "      <td>0</td>\n",
       "      <td>0</td>\n",
       "      <td>0</td>\n",
       "      <td>0</td>\n",
       "      <td>0</td>\n",
       "      <td>0</td>\n",
       "      <td>0</td>\n",
       "      <td>0</td>\n",
       "      <td>0</td>\n",
       "      <td>...</td>\n",
       "      <td>0</td>\n",
       "      <td>0</td>\n",
       "      <td>0</td>\n",
       "      <td>0</td>\n",
       "      <td>0</td>\n",
       "      <td>0</td>\n",
       "      <td>0</td>\n",
       "      <td>0</td>\n",
       "      <td>0</td>\n",
       "      <td>0</td>\n",
       "    </tr>\n",
       "    <tr>\n",
       "      <th>4</th>\n",
       "      <td>0</td>\n",
       "      <td>0</td>\n",
       "      <td>0</td>\n",
       "      <td>0</td>\n",
       "      <td>0</td>\n",
       "      <td>0</td>\n",
       "      <td>0</td>\n",
       "      <td>0</td>\n",
       "      <td>0</td>\n",
       "      <td>0</td>\n",
       "      <td>...</td>\n",
       "      <td>0</td>\n",
       "      <td>0</td>\n",
       "      <td>0</td>\n",
       "      <td>0</td>\n",
       "      <td>0</td>\n",
       "      <td>0</td>\n",
       "      <td>0</td>\n",
       "      <td>0</td>\n",
       "      <td>0</td>\n",
       "      <td>0</td>\n",
       "    </tr>\n",
       "  </tbody>\n",
       "</table>\n",
       "<p>5 rows × 785 columns</p>\n",
       "</div>"
      ],
      "text/plain": [
       "   label  pixel0  pixel1  pixel2  pixel3  pixel4  pixel5  pixel6  pixel7  \\\n",
       "0      1       0       0       0       0       0       0       0       0   \n",
       "1      0       0       0       0       0       0       0       0       0   \n",
       "2      1       0       0       0       0       0       0       0       0   \n",
       "3      4       0       0       0       0       0       0       0       0   \n",
       "4      0       0       0       0       0       0       0       0       0   \n",
       "\n",
       "   pixel8  ...  pixel774  pixel775  pixel776  pixel777  pixel778  pixel779  \\\n",
       "0       0  ...         0         0         0         0         0         0   \n",
       "1       0  ...         0         0         0         0         0         0   \n",
       "2       0  ...         0         0         0         0         0         0   \n",
       "3       0  ...         0         0         0         0         0         0   \n",
       "4       0  ...         0         0         0         0         0         0   \n",
       "\n",
       "   pixel780  pixel781  pixel782  pixel783  \n",
       "0         0         0         0         0  \n",
       "1         0         0         0         0  \n",
       "2         0         0         0         0  \n",
       "3         0         0         0         0  \n",
       "4         0         0         0         0  \n",
       "\n",
       "[5 rows x 785 columns]"
      ]
     },
     "execution_count": 3,
     "metadata": {},
     "output_type": "execute_result"
    }
   ],
   "source": [
    "df.head()"
   ]
  },
  {
   "cell_type": "code",
   "execution_count": 4,
   "id": "3ed82e9c",
   "metadata": {
    "execution": {
     "iopub.execute_input": "2024-04-02T02:43:03.262915Z",
     "iopub.status.busy": "2024-04-02T02:43:03.262644Z",
     "iopub.status.idle": "2024-04-02T02:43:03.272417Z",
     "shell.execute_reply": "2024-04-02T02:43:03.271585Z"
    },
    "papermill": {
     "duration": 0.020355,
     "end_time": "2024-04-02T02:43:03.274347",
     "exception": false,
     "start_time": "2024-04-02T02:43:03.253992",
     "status": "completed"
    },
    "tags": []
   },
   "outputs": [
    {
     "data": {
      "text/plain": [
       "array([  0, 194, 213, 253,  98,  61, 252, 191,  27,   6, 157, 135,  28,\n",
       "       108,  49,  20,  38, 226, 128,  41,  60,  18,  95,  82,  63,  43,\n",
       "         3, 218, 105,  75,  36, 192, 212, 254, 183, 117,  99,  89, 204,\n",
       "       125,  17, 247, 190, 151,  44, 111,  97, 234, 249,  84,  19, 129,\n",
       "        80, 122,  79, 223,  30])"
      ]
     },
     "execution_count": 4,
     "metadata": {},
     "output_type": "execute_result"
    }
   ],
   "source": [
    "df['pixel774'].unique()"
   ]
  },
  {
   "cell_type": "code",
   "execution_count": 5,
   "id": "70b263fb",
   "metadata": {
    "execution": {
     "iopub.execute_input": "2024-04-02T02:43:03.291419Z",
     "iopub.status.busy": "2024-04-02T02:43:03.291154Z",
     "iopub.status.idle": "2024-04-02T02:43:04.610927Z",
     "shell.execute_reply": "2024-04-02T02:43:04.610139Z"
    },
    "papermill": {
     "duration": 1.330664,
     "end_time": "2024-04-02T02:43:04.613066",
     "exception": false,
     "start_time": "2024-04-02T02:43:03.282402",
     "status": "completed"
    },
    "tags": []
   },
   "outputs": [],
   "source": [
    "df.loc[:, df.columns != 'label'] = df.loc[:, df.columns != 'label'] / 255.0"
   ]
  },
  {
   "cell_type": "code",
   "execution_count": 6,
   "id": "0ae4882e",
   "metadata": {
    "execution": {
     "iopub.execute_input": "2024-04-02T02:43:04.632657Z",
     "iopub.status.busy": "2024-04-02T02:43:04.632342Z",
     "iopub.status.idle": "2024-04-02T02:43:04.639294Z",
     "shell.execute_reply": "2024-04-02T02:43:04.638351Z"
    },
    "papermill": {
     "duration": 0.018218,
     "end_time": "2024-04-02T02:43:04.641125",
     "exception": false,
     "start_time": "2024-04-02T02:43:04.622907",
     "status": "completed"
    },
    "tags": []
   },
   "outputs": [
    {
     "data": {
      "text/plain": [
       "array([0.        , 0.76078431, 0.83529412, 0.99215686, 0.38431373,\n",
       "       0.23921569, 0.98823529, 0.74901961, 0.10588235, 0.02352941,\n",
       "       0.61568627, 0.52941176, 0.10980392, 0.42352941, 0.19215686,\n",
       "       0.07843137, 0.14901961, 0.88627451, 0.50196078, 0.16078431,\n",
       "       0.23529412, 0.07058824, 0.37254902, 0.32156863, 0.24705882,\n",
       "       0.16862745, 0.01176471, 0.85490196, 0.41176471, 0.29411765,\n",
       "       0.14117647, 0.75294118, 0.83137255, 0.99607843, 0.71764706,\n",
       "       0.45882353, 0.38823529, 0.34901961, 0.8       , 0.49019608,\n",
       "       0.06666667, 0.96862745, 0.74509804, 0.59215686, 0.17254902,\n",
       "       0.43529412, 0.38039216, 0.91764706, 0.97647059, 0.32941176,\n",
       "       0.0745098 , 0.50588235, 0.31372549, 0.47843137, 0.30980392,\n",
       "       0.8745098 , 0.11764706])"
      ]
     },
     "execution_count": 6,
     "metadata": {},
     "output_type": "execute_result"
    }
   ],
   "source": [
    "df['pixel774'].unique()"
   ]
  },
  {
   "cell_type": "code",
   "execution_count": 7,
   "id": "e5345425",
   "metadata": {
    "execution": {
     "iopub.execute_input": "2024-04-02T02:43:04.658408Z",
     "iopub.status.busy": "2024-04-02T02:43:04.658149Z",
     "iopub.status.idle": "2024-04-02T02:43:04.709142Z",
     "shell.execute_reply": "2024-04-02T02:43:04.708184Z"
    },
    "papermill": {
     "duration": 0.061686,
     "end_time": "2024-04-02T02:43:04.710969",
     "exception": false,
     "start_time": "2024-04-02T02:43:04.649283",
     "status": "completed"
    },
    "tags": []
   },
   "outputs": [
    {
     "name": "stdout",
     "output_type": "stream",
     "text": [
      "<class 'pandas.core.frame.DataFrame'>\n",
      "RangeIndex: 42000 entries, 0 to 41999\n",
      "Columns: 785 entries, label to pixel783\n",
      "dtypes: float64(708), int64(77)\n",
      "memory usage: 251.5 MB\n"
     ]
    }
   ],
   "source": [
    "df.info()"
   ]
  },
  {
   "cell_type": "code",
   "execution_count": 8,
   "id": "37162669",
   "metadata": {
    "execution": {
     "iopub.execute_input": "2024-04-02T02:43:04.728490Z",
     "iopub.status.busy": "2024-04-02T02:43:04.728251Z",
     "iopub.status.idle": "2024-04-02T02:43:04.805984Z",
     "shell.execute_reply": "2024-04-02T02:43:04.805109Z"
    },
    "papermill": {
     "duration": 0.088699,
     "end_time": "2024-04-02T02:43:04.807914",
     "exception": false,
     "start_time": "2024-04-02T02:43:04.719215",
     "status": "completed"
    },
    "tags": []
   },
   "outputs": [
    {
     "data": {
      "text/plain": [
       "0"
      ]
     },
     "execution_count": 8,
     "metadata": {},
     "output_type": "execute_result"
    }
   ],
   "source": [
    "df.isna().sum().sum()"
   ]
  },
  {
   "cell_type": "code",
   "execution_count": 9,
   "id": "eb8536bb",
   "metadata": {
    "execution": {
     "iopub.execute_input": "2024-04-02T02:43:04.825917Z",
     "iopub.status.busy": "2024-04-02T02:43:04.825618Z",
     "iopub.status.idle": "2024-04-02T02:43:04.835015Z",
     "shell.execute_reply": "2024-04-02T02:43:04.834289Z"
    },
    "papermill": {
     "duration": 0.020444,
     "end_time": "2024-04-02T02:43:04.836832",
     "exception": false,
     "start_time": "2024-04-02T02:43:04.816388",
     "status": "completed"
    },
    "tags": []
   },
   "outputs": [],
   "source": [
    "class DigitDataset(Dataset):\n",
    "    def __init__(self, features, target=None, augment=False):\n",
    "        self.features = features\n",
    "        self.target = target\n",
    "        self.augment = augment\n",
    "\n",
    "        if self.augment:\n",
    "            self.transforms = transforms.Compose([\n",
    "                #transforms.ToPILImage(),  \n",
    "                transforms.RandomRotation(degrees=15),\n",
    "                transforms.RandomAffine(degrees=0, translate=(0.05, 0.05), scale=(0.95, 1.05)),\n",
    "                #transforms.ColorJitter(brightness=0.1, contrast=0.1),\n",
    "                transforms.ToTensor(),\n",
    "                transforms.Normalize((0.5,), (0.5,))  \n",
    "            ])\n",
    "        else:\n",
    "            self.transforms = transforms.Compose([\n",
    "                transforms.ToTensor(),\n",
    "                transforms.Normalize((0.5,), (0.5,))  \n",
    "            ])\n",
    "\n",
    "    def __len__(self):\n",
    "        if self.target is None:\n",
    "            return len(self.features)\n",
    "        else:\n",
    "            return len(self.target)\n",
    "\n",
    "    def __getitem__(self, idx):\n",
    "        features_tensor = torch.tensor(self.features.iloc[idx].values, dtype=torch.float).view(1, 28, 28)\n",
    "        features_pil = ToPILImage()(features_tensor)\n",
    "        features_tensor = self.transforms(features_pil)\n",
    "\n",
    "        if self.target is not None:\n",
    "            label_tensor = torch.tensor(self.target.iloc[idx], dtype=torch.long)\n",
    "            return features_tensor, label_tensor\n",
    "        else:\n",
    "            return features_tensor\n",
    "\n"
   ]
  },
  {
   "cell_type": "code",
   "execution_count": 10,
   "id": "4b7de9b8",
   "metadata": {
    "execution": {
     "iopub.execute_input": "2024-04-02T02:43:04.854466Z",
     "iopub.status.busy": "2024-04-02T02:43:04.854229Z",
     "iopub.status.idle": "2024-04-02T02:43:05.108677Z",
     "shell.execute_reply": "2024-04-02T02:43:05.107601Z"
    },
    "papermill": {
     "duration": 0.26638,
     "end_time": "2024-04-02T02:43:05.111570",
     "exception": false,
     "start_time": "2024-04-02T02:43:04.845190",
     "status": "completed"
    },
    "tags": []
   },
   "outputs": [],
   "source": [
    "dataset = DigitDataset(df.drop(['label'], axis=1), df['label'], True)"
   ]
  },
  {
   "cell_type": "code",
   "execution_count": 11,
   "id": "570f3b66",
   "metadata": {
    "execution": {
     "iopub.execute_input": "2024-04-02T02:43:05.132717Z",
     "iopub.status.busy": "2024-04-02T02:43:05.132357Z",
     "iopub.status.idle": "2024-04-02T02:43:05.139465Z",
     "shell.execute_reply": "2024-04-02T02:43:05.138523Z"
    },
    "papermill": {
     "duration": 0.019651,
     "end_time": "2024-04-02T02:43:05.141872",
     "exception": false,
     "start_time": "2024-04-02T02:43:05.122221",
     "status": "completed"
    },
    "tags": []
   },
   "outputs": [
    {
     "data": {
      "text/plain": [
       "[0, 1, 2, 3, 4, 5, 6, 7, 8, 9]"
      ]
     },
     "execution_count": 11,
     "metadata": {},
     "output_type": "execute_result"
    }
   ],
   "source": [
    "classes = sorted(df['label'].unique())\n",
    "classes"
   ]
  },
  {
   "cell_type": "code",
   "execution_count": 12,
   "id": "2ae2fa8b",
   "metadata": {
    "execution": {
     "iopub.execute_input": "2024-04-02T02:43:05.163692Z",
     "iopub.status.busy": "2024-04-02T02:43:05.163347Z",
     "iopub.status.idle": "2024-04-02T02:43:05.167999Z",
     "shell.execute_reply": "2024-04-02T02:43:05.167047Z"
    },
    "papermill": {
     "duration": 0.01814,
     "end_time": "2024-04-02T02:43:05.170200",
     "exception": false,
     "start_time": "2024-04-02T02:43:05.152060",
     "status": "completed"
    },
    "tags": []
   },
   "outputs": [],
   "source": [
    "dataloader = DataLoader(dataset, batch_size=64, shuffle=True)"
   ]
  },
  {
   "cell_type": "code",
   "execution_count": 13,
   "id": "8f09eb49",
   "metadata": {
    "execution": {
     "iopub.execute_input": "2024-04-02T02:43:05.191771Z",
     "iopub.status.busy": "2024-04-02T02:43:05.191365Z",
     "iopub.status.idle": "2024-04-02T02:43:05.434225Z",
     "shell.execute_reply": "2024-04-02T02:43:05.433107Z"
    },
    "papermill": {
     "duration": 0.255958,
     "end_time": "2024-04-02T02:43:05.436390",
     "exception": false,
     "start_time": "2024-04-02T02:43:05.180432",
     "status": "completed"
    },
    "tags": []
   },
   "outputs": [],
   "source": [
    "for features, label in dataloader:\n",
    "    break"
   ]
  },
  {
   "cell_type": "code",
   "execution_count": 14,
   "id": "e46827d9",
   "metadata": {
    "execution": {
     "iopub.execute_input": "2024-04-02T02:43:05.455970Z",
     "iopub.status.busy": "2024-04-02T02:43:05.455698Z",
     "iopub.status.idle": "2024-04-02T02:43:05.750288Z",
     "shell.execute_reply": "2024-04-02T02:43:05.749314Z"
    },
    "papermill": {
     "duration": 0.306933,
     "end_time": "2024-04-02T02:43:05.752264",
     "exception": false,
     "start_time": "2024-04-02T02:43:05.445331",
     "status": "completed"
    },
    "tags": []
   },
   "outputs": [
    {
     "data": {
      "text/plain": [
       "<matplotlib.image.AxesImage at 0x7ece8e66c460>"
      ]
     },
     "execution_count": 14,
     "metadata": {},
     "output_type": "execute_result"
    },
    {
     "data": {
      "image/png": "[encoded data removed]",
      "text/plain": [
       "<Figure size 640x480 with 1 Axes>"
      ]
     },
     "metadata": {},
     "output_type": "display_data"
    }
   ],
   "source": [
    "plt.imshow(features[0].cpu().squeeze(), cmap='gist_gray')"
   ]
  },
  {
   "cell_type": "code",
   "execution_count": 15,
   "id": "bc821b48",
   "metadata": {
    "execution": {
     "iopub.execute_input": "2024-04-02T02:43:05.771938Z",
     "iopub.status.busy": "2024-04-02T02:43:05.771635Z",
     "iopub.status.idle": "2024-04-02T02:43:05.782142Z",
     "shell.execute_reply": "2024-04-02T02:43:05.781381Z"
    },
    "papermill": {
     "duration": 0.022487,
     "end_time": "2024-04-02T02:43:05.783960",
     "exception": false,
     "start_time": "2024-04-02T02:43:05.761473",
     "status": "completed"
    },
    "tags": []
   },
   "outputs": [],
   "source": [
    "class DigitClassifier(nn.Module):\n",
    "    def __init__(self, num_classes, p=0.3):\n",
    "        super(DigitClassifier, self).__init__()\n",
    "        \n",
    "        self.c1 = nn.Conv2d(\n",
    "            in_channels=1,\n",
    "            out_channels=16,\n",
    "            kernel_size=(5, 5),\n",
    "            stride=1,\n",
    "            padding=0,\n",
    "        )\n",
    "        self.c2 = nn.Conv2d(\n",
    "            in_channels=16, \n",
    "            out_channels=32, \n",
    "            kernel_size=(3, 3), stride=1, padding=0\n",
    "        )\n",
    "        \n",
    "        self.fc1 = nn.Linear(32 * 5 * 5, 128)\n",
    "        self.fc2 = nn.Linear(128, num_classes)\n",
    "        \n",
    "        self.bn1 = nn.BatchNorm2d(16)\n",
    "        self.bn2 = nn.BatchNorm2d(32)\n",
    "\n",
    "        self.mp = nn.MaxPool2d(kernel_size=(2, 2))\n",
    "        self.relu = nn.ReLU()\n",
    "        self.dropout = nn.Dropout(p)\n",
    "        \n",
    "    def relu_mp_dropout(self, x):\n",
    "        x = self.relu(x)\n",
    "        x = self.mp(x)\n",
    "        x = self.dropout(x)\n",
    "        return x\n",
    "\n",
    "    def forward(self, x):\n",
    "        x = self.c1(x)\n",
    "        x = self.bn1(x)\n",
    "        x = self.relu_mp_dropout(x)\n",
    "        \n",
    "        x = self.c2(x)\n",
    "        x = self.bn2(x)\n",
    "        x = self.relu_mp_dropout(x)\n",
    "        \n",
    "        x = x.view(x.size(0), -1)  \n",
    "        x = self.fc1(x)\n",
    "        x = self.relu(x)  \n",
    "        x = self.dropout(x)\n",
    "        output = self.fc2(x)\n",
    "        \n",
    "        return output\n"
   ]
  },
  {
   "cell_type": "code",
   "execution_count": 16,
   "id": "5fc5c43e",
   "metadata": {
    "execution": {
     "iopub.execute_input": "2024-04-02T02:43:05.802714Z",
     "iopub.status.busy": "2024-04-02T02:43:05.802415Z",
     "iopub.status.idle": "2024-04-02T02:43:05.815565Z",
     "shell.execute_reply": "2024-04-02T02:43:05.814906Z"
    },
    "papermill": {
     "duration": 0.02457,
     "end_time": "2024-04-02T02:43:05.817350",
     "exception": false,
     "start_time": "2024-04-02T02:43:05.792780",
     "status": "completed"
    },
    "tags": []
   },
   "outputs": [],
   "source": [
    "model = DigitClassifier(len(classes))"
   ]
  },
  {
   "cell_type": "code",
   "execution_count": 17,
   "id": "3ffde3e0",
   "metadata": {
    "execution": {
     "iopub.execute_input": "2024-04-02T02:43:05.836083Z",
     "iopub.status.busy": "2024-04-02T02:43:05.835808Z",
     "iopub.status.idle": "2024-04-02T02:43:05.991166Z",
     "shell.execute_reply": "2024-04-02T02:43:05.990473Z"
    },
    "papermill": {
     "duration": 0.166931,
     "end_time": "2024-04-02T02:43:05.993132",
     "exception": false,
     "start_time": "2024-04-02T02:43:05.826201",
     "status": "completed"
    },
    "tags": []
   },
   "outputs": [],
   "source": [
    "for features, label in dataloader:\n",
    "    break"
   ]
  },
  {
   "cell_type": "code",
   "execution_count": 18,
   "id": "185edc7f",
   "metadata": {
    "execution": {
     "iopub.execute_input": "2024-04-02T02:43:06.012072Z",
     "iopub.status.busy": "2024-04-02T02:43:06.011786Z",
     "iopub.status.idle": "2024-04-02T02:43:06.135741Z",
     "shell.execute_reply": "2024-04-02T02:43:06.134673Z"
    },
    "papermill": {
     "duration": 0.136229,
     "end_time": "2024-04-02T02:43:06.138267",
     "exception": false,
     "start_time": "2024-04-02T02:43:06.002038",
     "status": "completed"
    },
    "tags": []
   },
   "outputs": [
    {
     "data": {
      "text/plain": [
       "torch.Size([64, 10])"
      ]
     },
     "execution_count": 18,
     "metadata": {},
     "output_type": "execute_result"
    }
   ],
   "source": [
    "model(features).shape"
   ]
  },
  {
   "cell_type": "code",
   "execution_count": 19,
   "id": "d75983ef",
   "metadata": {
    "execution": {
     "iopub.execute_input": "2024-04-02T02:43:06.159801Z",
     "iopub.status.busy": "2024-04-02T02:43:06.159163Z",
     "iopub.status.idle": "2024-04-02T02:43:06.655732Z",
     "shell.execute_reply": "2024-04-02T02:43:06.654835Z"
    },
    "papermill": {
     "duration": 0.509737,
     "end_time": "2024-04-02T02:43:06.658790",
     "exception": false,
     "start_time": "2024-04-02T02:43:06.149053",
     "status": "completed"
    },
    "tags": []
   },
   "outputs": [],
   "source": [
    "df, df_test = train_test_split(df, test_size=0.1, stratify=df['label'])"
   ]
  },
  {
   "cell_type": "code",
   "execution_count": 20,
   "id": "477d3dd4",
   "metadata": {
    "execution": {
     "iopub.execute_input": "2024-04-02T02:43:06.683355Z",
     "iopub.status.busy": "2024-04-02T02:43:06.682611Z",
     "iopub.status.idle": "2024-04-02T02:43:06.721385Z",
     "shell.execute_reply": "2024-04-02T02:43:06.720594Z"
    },
    "papermill": {
     "duration": 0.051489,
     "end_time": "2024-04-02T02:43:06.723531",
     "exception": false,
     "start_time": "2024-04-02T02:43:06.672042",
     "status": "completed"
    },
    "tags": []
   },
   "outputs": [],
   "source": [
    "test_dataset = DigitDataset(df_test.drop(['label'], axis=1), df_test['label'])\n",
    "test_loader = DataLoader(test_dataset, batch_size=64, shuffle=True)"
   ]
  },
  {
   "cell_type": "code",
   "execution_count": 21,
   "id": "5fbfd09d",
   "metadata": {
    "execution": {
     "iopub.execute_input": "2024-04-02T02:43:06.744664Z",
     "iopub.status.busy": "2024-04-02T02:43:06.744316Z",
     "iopub.status.idle": "2024-04-02T05:07:13.089583Z",
     "shell.execute_reply": "2024-04-02T05:07:13.088626Z"
    },
    "papermill": {
     "duration": 8646.375813,
     "end_time": "2024-04-02T05:07:13.108993",
     "exception": false,
     "start_time": "2024-04-02T02:43:06.733180",
     "status": "completed"
    },
    "tags": []
   },
   "outputs": [
    {
     "name": "stdout",
     "output_type": "stream",
     "text": [
      "Fold 1/5\n",
      "\n",
      "Epoch 1/100 - Train Loss: 0.4542, Validation Loss: 0.0933, Accuracy: 0.9705\n",
      "Model improved and saved at epoch 1 with validation loss: 0.0933, accuracy: 0.9705\n",
      "Epoch 2/100 - Train Loss: 0.2117, Validation Loss: 0.0803, Accuracy: 0.9757\n",
      "Model improved and saved at epoch 2 with validation loss: 0.0803, accuracy: 0.9757\n",
      "Epoch 3/100 - Train Loss: 0.1715, Validation Loss: 0.0725, Accuracy: 0.9788\n",
      "Model improved and saved at epoch 3 with validation loss: 0.0725, accuracy: 0.9788\n",
      "Epoch 4/100 - Train Loss: 0.1336, Validation Loss: 0.0546, Accuracy: 0.9836\n",
      "Model improved and saved at epoch 4 with validation loss: 0.0546, accuracy: 0.9836\n",
      "Epoch 5/100 - Train Loss: 0.1201, Validation Loss: 0.0531, Accuracy: 0.9837\n",
      "Model improved and saved at epoch 5 with validation loss: 0.0531, accuracy: 0.9837\n",
      "Epoch 6/100 - Train Loss: 0.1162, Validation Loss: 0.0575, Accuracy: 0.9829\n",
      "Epoch 7/100 - Train Loss: 0.0996, Validation Loss: 0.0502, Accuracy: 0.9852\n",
      "Model improved and saved at epoch 7 with validation loss: 0.0502, accuracy: 0.9852\n",
      "Epoch 8/100 - Train Loss: 0.0951, Validation Loss: 0.0478, Accuracy: 0.9856\n",
      "Model improved and saved at epoch 8 with validation loss: 0.0478, accuracy: 0.9856\n",
      "Epoch 9/100 - Train Loss: 0.0918, Validation Loss: 0.0464, Accuracy: 0.9864\n",
      "Model improved and saved at epoch 9 with validation loss: 0.0464, accuracy: 0.9864\n",
      "Epoch 10/100 - Train Loss: 0.0851, Validation Loss: 0.0449, Accuracy: 0.9876\n",
      "Model improved and saved at epoch 10 with validation loss: 0.0449, accuracy: 0.9876\n",
      "Epoch 11/100 - Train Loss: 0.0806, Validation Loss: 0.0446, Accuracy: 0.9874\n",
      "Model improved and saved at epoch 11 with validation loss: 0.0446, accuracy: 0.9874\n",
      "Epoch 12/100 - Train Loss: 0.0812, Validation Loss: 0.0432, Accuracy: 0.9880\n",
      "Model improved and saved at epoch 12 with validation loss: 0.0432, accuracy: 0.9880\n",
      "Epoch 13/100 - Train Loss: 0.0743, Validation Loss: 0.0433, Accuracy: 0.9877\n",
      "Epoch 14/100 - Train Loss: 0.0705, Validation Loss: 0.0430, Accuracy: 0.9874\n",
      "Model improved and saved at epoch 14 with validation loss: 0.0430, accuracy: 0.9874\n",
      "Epoch 15/100 - Train Loss: 0.0710, Validation Loss: 0.0435, Accuracy: 0.9881\n",
      "Epoch 16/100 - Train Loss: 0.0684, Validation Loss: 0.0430, Accuracy: 0.9882\n",
      "Epoch 17/100 - Train Loss: 0.0691, Validation Loss: 0.0425, Accuracy: 0.9881\n",
      "Model improved and saved at epoch 17 with validation loss: 0.0425, accuracy: 0.9881\n",
      "Epoch 18/100 - Train Loss: 0.0643, Validation Loss: 0.0415, Accuracy: 0.9885\n",
      "Model improved and saved at epoch 18 with validation loss: 0.0415, accuracy: 0.9885\n",
      "Epoch 19/100 - Train Loss: 0.0678, Validation Loss: 0.0423, Accuracy: 0.9881\n",
      "Epoch 20/100 - Train Loss: 0.0681, Validation Loss: 0.0415, Accuracy: 0.9881\n",
      "Epoch 21/100 - Train Loss: 0.0669, Validation Loss: 0.0415, Accuracy: 0.9885\n",
      "Patience limit reached. Stopping training.\n",
      "Fold 2/5\n",
      "\n",
      "Epoch 1/100 - Train Loss: 0.3771, Validation Loss: 0.0848, Accuracy: 0.9754\n",
      "Model improved and saved at epoch 1 with validation loss: 0.0848, accuracy: 0.9754\n",
      "Epoch 2/100 - Train Loss: 0.1644, Validation Loss: 0.0595, Accuracy: 0.9813\n",
      "Model improved and saved at epoch 2 with validation loss: 0.0595, accuracy: 0.9813\n",
      "Epoch 3/100 - Train Loss: 0.1399, Validation Loss: 0.0570, Accuracy: 0.9829\n",
      "Model improved and saved at epoch 3 with validation loss: 0.0570, accuracy: 0.9829\n",
      "Epoch 4/100 - Train Loss: 0.1007, Validation Loss: 0.0441, Accuracy: 0.9865\n",
      "Model improved and saved at epoch 4 with validation loss: 0.0441, accuracy: 0.9865\n",
      "Epoch 5/100 - Train Loss: 0.0899, Validation Loss: 0.0387, Accuracy: 0.9880\n",
      "Model improved and saved at epoch 5 with validation loss: 0.0387, accuracy: 0.9880\n",
      "Epoch 6/100 - Train Loss: 0.0938, Validation Loss: 0.0384, Accuracy: 0.9881\n",
      "Model improved and saved at epoch 6 with validation loss: 0.0384, accuracy: 0.9881\n",
      "Epoch 7/100 - Train Loss: 0.0751, Validation Loss: 0.0347, Accuracy: 0.9893\n",
      "Model improved and saved at epoch 7 with validation loss: 0.0347, accuracy: 0.9893\n",
      "Epoch 8/100 - Train Loss: 0.0669, Validation Loss: 0.0343, Accuracy: 0.9897\n",
      "Model improved and saved at epoch 8 with validation loss: 0.0343, accuracy: 0.9897\n",
      "Epoch 9/100 - Train Loss: 0.0675, Validation Loss: 0.0336, Accuracy: 0.9902\n",
      "Model improved and saved at epoch 9 with validation loss: 0.0336, accuracy: 0.9902\n",
      "Epoch 10/100 - Train Loss: 0.0587, Validation Loss: 0.0300, Accuracy: 0.9909\n",
      "Model improved and saved at epoch 10 with validation loss: 0.0300, accuracy: 0.9909\n",
      "Epoch 11/100 - Train Loss: 0.0610, Validation Loss: 0.0307, Accuracy: 0.9907\n",
      "Epoch 12/100 - Train Loss: 0.0567, Validation Loss: 0.0308, Accuracy: 0.9909\n",
      "Epoch 13/100 - Train Loss: 0.0547, Validation Loss: 0.0291, Accuracy: 0.9913\n",
      "Model improved and saved at epoch 13 with validation loss: 0.0291, accuracy: 0.9913\n",
      "Epoch 14/100 - Train Loss: 0.0516, Validation Loss: 0.0296, Accuracy: 0.9910\n",
      "Epoch 15/100 - Train Loss: 0.0508, Validation Loss: 0.0292, Accuracy: 0.9913\n",
      "Epoch 16/100 - Train Loss: 0.0503, Validation Loss: 0.0294, Accuracy: 0.9907\n",
      "Epoch 17/100 - Train Loss: 0.0474, Validation Loss: 0.0295, Accuracy: 0.9907\n",
      "Epoch 18/100 - Train Loss: 0.0473, Validation Loss: 0.0293, Accuracy: 0.9909\n",
      "Epoch 19/100 - Train Loss: 0.0486, Validation Loss: 0.0292, Accuracy: 0.9905\n",
      "Epoch 20/100 - Train Loss: 0.0507, Validation Loss: 0.0285, Accuracy: 0.9907\n",
      "Model improved and saved at epoch 20 with validation loss: 0.0285, accuracy: 0.9907\n",
      "Epoch 21/100 - Train Loss: 0.0454, Validation Loss: 0.0288, Accuracy: 0.9907\n",
      "Patience limit reached. Stopping training.\n",
      "Fold 3/5\n",
      "\n",
      "Epoch 1/100 - Train Loss: 0.4158, Validation Loss: 0.0782, Accuracy: 0.9780\n",
      "Model improved and saved at epoch 1 with validation loss: 0.0782, accuracy: 0.9780\n",
      "Epoch 2/100 - Train Loss: 0.1807, Validation Loss: 0.0748, Accuracy: 0.9778\n",
      "Model improved and saved at epoch 2 with validation loss: 0.0748, accuracy: 0.9778\n",
      "Epoch 3/100 - Train Loss: 0.1525, Validation Loss: 0.0508, Accuracy: 0.9840\n",
      "Model improved and saved at epoch 3 with validation loss: 0.0508, accuracy: 0.9840\n",
      "Epoch 4/100 - Train Loss: 0.1143, Validation Loss: 0.0482, Accuracy: 0.9856\n",
      "Model improved and saved at epoch 4 with validation loss: 0.0482, accuracy: 0.9856\n",
      "Epoch 5/100 - Train Loss: 0.1006, Validation Loss: 0.0414, Accuracy: 0.9890\n",
      "Model improved and saved at epoch 5 with validation loss: 0.0414, accuracy: 0.9890\n",
      "Epoch 6/100 - Train Loss: 0.0997, Validation Loss: 0.0456, Accuracy: 0.9853\n",
      "Epoch 7/100 - Train Loss: 0.0828, Validation Loss: 0.0405, Accuracy: 0.9890\n",
      "Model improved and saved at epoch 7 with validation loss: 0.0405, accuracy: 0.9890\n",
      "Epoch 8/100 - Train Loss: 0.0783, Validation Loss: 0.0362, Accuracy: 0.9896\n",
      "Model improved and saved at epoch 8 with validation loss: 0.0362, accuracy: 0.9896\n",
      "Epoch 9/100 - Train Loss: 0.0770, Validation Loss: 0.0387, Accuracy: 0.9905\n",
      "Epoch 10/100 - Train Loss: 0.0702, Validation Loss: 0.0342, Accuracy: 0.9911\n",
      "Model improved and saved at epoch 10 with validation loss: 0.0342, accuracy: 0.9911\n",
      "Epoch 11/100 - Train Loss: 0.0664, Validation Loss: 0.0341, Accuracy: 0.9911\n",
      "Model improved and saved at epoch 11 with validation loss: 0.0341, accuracy: 0.9911\n",
      "Epoch 12/100 - Train Loss: 0.0647, Validation Loss: 0.0336, Accuracy: 0.9911\n",
      "Model improved and saved at epoch 12 with validation loss: 0.0336, accuracy: 0.9911\n",
      "Epoch 13/100 - Train Loss: 0.0572, Validation Loss: 0.0343, Accuracy: 0.9906\n",
      "Epoch 14/100 - Train Loss: 0.0582, Validation Loss: 0.0337, Accuracy: 0.9906\n",
      "Epoch 15/100 - Train Loss: 0.0599, Validation Loss: 0.0329, Accuracy: 0.9907\n",
      "Model improved and saved at epoch 15 with validation loss: 0.0329, accuracy: 0.9907\n",
      "Epoch 16/100 - Train Loss: 0.0542, Validation Loss: 0.0323, Accuracy: 0.9907\n",
      "Model improved and saved at epoch 16 with validation loss: 0.0323, accuracy: 0.9907\n",
      "Epoch 17/100 - Train Loss: 0.0521, Validation Loss: 0.0323, Accuracy: 0.9917\n",
      "Epoch 18/100 - Train Loss: 0.0527, Validation Loss: 0.0326, Accuracy: 0.9915\n",
      "Epoch 19/100 - Train Loss: 0.0551, Validation Loss: 0.0325, Accuracy: 0.9914\n",
      "Epoch 20/100 - Train Loss: 0.0533, Validation Loss: 0.0317, Accuracy: 0.9919\n",
      "Model improved and saved at epoch 20 with validation loss: 0.0317, accuracy: 0.9919\n",
      "Epoch 21/100 - Train Loss: 0.0527, Validation Loss: 0.0318, Accuracy: 0.9919\n",
      "Patience limit reached. Stopping training.\n",
      "Fold 4/5\n",
      "\n",
      "Epoch 1/100 - Train Loss: 0.5056, Validation Loss: 0.1065, Accuracy: 0.9712\n",
      "Model improved and saved at epoch 1 with validation loss: 0.1065, accuracy: 0.9712\n",
      "Epoch 2/100 - Train Loss: 0.2394, Validation Loss: 0.0736, Accuracy: 0.9790\n",
      "Model improved and saved at epoch 2 with validation loss: 0.0736, accuracy: 0.9790\n",
      "Epoch 3/100 - Train Loss: 0.1967, Validation Loss: 0.0731, Accuracy: 0.9806\n",
      "Model improved and saved at epoch 3 with validation loss: 0.0731, accuracy: 0.9806\n",
      "Epoch 4/100 - Train Loss: 0.1524, Validation Loss: 0.0605, Accuracy: 0.9827\n",
      "Model improved and saved at epoch 4 with validation loss: 0.0605, accuracy: 0.9827\n",
      "Epoch 5/100 - Train Loss: 0.1405, Validation Loss: 0.0518, Accuracy: 0.9851\n",
      "Model improved and saved at epoch 5 with validation loss: 0.0518, accuracy: 0.9851\n",
      "Epoch 6/100 - Train Loss: 0.1342, Validation Loss: 0.0504, Accuracy: 0.9864\n",
      "Model improved and saved at epoch 6 with validation loss: 0.0504, accuracy: 0.9864\n",
      "Epoch 7/100 - Train Loss: 0.1159, Validation Loss: 0.0465, Accuracy: 0.9870\n",
      "Model improved and saved at epoch 7 with validation loss: 0.0465, accuracy: 0.9870\n",
      "Epoch 8/100 - Train Loss: 0.1128, Validation Loss: 0.0452, Accuracy: 0.9876\n",
      "Model improved and saved at epoch 8 with validation loss: 0.0452, accuracy: 0.9876\n",
      "Epoch 9/100 - Train Loss: 0.1060, Validation Loss: 0.0445, Accuracy: 0.9877\n",
      "Model improved and saved at epoch 9 with validation loss: 0.0445, accuracy: 0.9877\n",
      "Epoch 10/100 - Train Loss: 0.0968, Validation Loss: 0.0427, Accuracy: 0.9880\n",
      "Model improved and saved at epoch 10 with validation loss: 0.0427, accuracy: 0.9880\n",
      "Epoch 11/100 - Train Loss: 0.0948, Validation Loss: 0.0418, Accuracy: 0.9880\n",
      "Model improved and saved at epoch 11 with validation loss: 0.0418, accuracy: 0.9880\n",
      "Epoch 12/100 - Train Loss: 0.0911, Validation Loss: 0.0405, Accuracy: 0.9884\n",
      "Model improved and saved at epoch 12 with validation loss: 0.0405, accuracy: 0.9884\n",
      "Epoch 13/100 - Train Loss: 0.0916, Validation Loss: 0.0408, Accuracy: 0.9884\n",
      "Epoch 14/100 - Train Loss: 0.0849, Validation Loss: 0.0398, Accuracy: 0.9886\n",
      "Model improved and saved at epoch 14 with validation loss: 0.0398, accuracy: 0.9886\n",
      "Epoch 15/100 - Train Loss: 0.0859, Validation Loss: 0.0400, Accuracy: 0.9890\n",
      "Epoch 16/100 - Train Loss: 0.0813, Validation Loss: 0.0403, Accuracy: 0.9888\n",
      "Epoch 17/100 - Train Loss: 0.0852, Validation Loss: 0.0404, Accuracy: 0.9882\n",
      "Epoch 18/100 - Train Loss: 0.0814, Validation Loss: 0.0399, Accuracy: 0.9890\n",
      "Epoch 19/100 - Train Loss: 0.0828, Validation Loss: 0.0398, Accuracy: 0.9888\n",
      "Epoch 20/100 - Train Loss: 0.0805, Validation Loss: 0.0398, Accuracy: 0.9886\n",
      "Model improved and saved at epoch 20 with validation loss: 0.0398, accuracy: 0.9886\n",
      "Epoch 21/100 - Train Loss: 0.0808, Validation Loss: 0.0403, Accuracy: 0.9890\n",
      "Patience limit reached. Stopping training.\n",
      "Fold 5/5\n",
      "\n",
      "Epoch 1/100 - Train Loss: 0.4669, Validation Loss: 0.1179, Accuracy: 0.9663\n",
      "Model improved and saved at epoch 1 with validation loss: 0.1179, accuracy: 0.9663\n",
      "Epoch 2/100 - Train Loss: 0.2454, Validation Loss: 0.0723, Accuracy: 0.9788\n",
      "Model improved and saved at epoch 2 with validation loss: 0.0723, accuracy: 0.9788\n",
      "Epoch 3/100 - Train Loss: 0.1943, Validation Loss: 0.0610, Accuracy: 0.9815\n",
      "Model improved and saved at epoch 3 with validation loss: 0.0610, accuracy: 0.9815\n",
      "Epoch 4/100 - Train Loss: 0.1419, Validation Loss: 0.0457, Accuracy: 0.9858\n",
      "Model improved and saved at epoch 4 with validation loss: 0.0457, accuracy: 0.9858\n",
      "Epoch 5/100 - Train Loss: 0.1259, Validation Loss: 0.0471, Accuracy: 0.9862\n",
      "Epoch 6/100 - Train Loss: 0.1220, Validation Loss: 0.0424, Accuracy: 0.9873\n",
      "Model improved and saved at epoch 6 with validation loss: 0.0424, accuracy: 0.9873\n",
      "Epoch 7/100 - Train Loss: 0.1058, Validation Loss: 0.0366, Accuracy: 0.9882\n",
      "Model improved and saved at epoch 7 with validation loss: 0.0366, accuracy: 0.9882\n",
      "Epoch 8/100 - Train Loss: 0.1015, Validation Loss: 0.0355, Accuracy: 0.9882\n",
      "Model improved and saved at epoch 8 with validation loss: 0.0355, accuracy: 0.9882\n",
      "Epoch 9/100 - Train Loss: 0.0982, Validation Loss: 0.0346, Accuracy: 0.9889\n",
      "Model improved and saved at epoch 9 with validation loss: 0.0346, accuracy: 0.9889\n",
      "Epoch 10/100 - Train Loss: 0.0914, Validation Loss: 0.0321, Accuracy: 0.9897\n",
      "Model improved and saved at epoch 10 with validation loss: 0.0321, accuracy: 0.9897\n",
      "Epoch 11/100 - Train Loss: 0.0859, Validation Loss: 0.0318, Accuracy: 0.9901\n",
      "Model improved and saved at epoch 11 with validation loss: 0.0318, accuracy: 0.9901\n",
      "Epoch 12/100 - Train Loss: 0.0846, Validation Loss: 0.0306, Accuracy: 0.9909\n",
      "Model improved and saved at epoch 12 with validation loss: 0.0306, accuracy: 0.9909\n",
      "Epoch 13/100 - Train Loss: 0.0816, Validation Loss: 0.0295, Accuracy: 0.9909\n",
      "Model improved and saved at epoch 13 with validation loss: 0.0295, accuracy: 0.9909\n",
      "Epoch 14/100 - Train Loss: 0.0827, Validation Loss: 0.0307, Accuracy: 0.9899\n",
      "Epoch 15/100 - Train Loss: 0.0792, Validation Loss: 0.0299, Accuracy: 0.9907\n",
      "Epoch 16/100 - Train Loss: 0.0751, Validation Loss: 0.0299, Accuracy: 0.9910\n",
      "Epoch 17/100 - Train Loss: 0.0732, Validation Loss: 0.0295, Accuracy: 0.9907\n",
      "Epoch 18/100 - Train Loss: 0.0764, Validation Loss: 0.0306, Accuracy: 0.9906\n",
      "Epoch 19/100 - Train Loss: 0.0730, Validation Loss: 0.0299, Accuracy: 0.9910\n",
      "Epoch 20/100 - Train Loss: 0.0721, Validation Loss: 0.0300, Accuracy: 0.9903\n",
      "Epoch 21/100 - Train Loss: 0.0719, Validation Loss: 0.0299, Accuracy: 0.9905\n",
      "Patience limit reached. Stopping training.\n",
      "Best model across all folds saved.\n"
     ]
    }
   ],
   "source": [
    "EPOCHS = 100\n",
    "patience = 20\n",
    "train_losses, val_losses = [], []\n",
    "kfold = StratifiedKFold(n_splits=5, shuffle=True)\n",
    "\n",
    "best_overall_accuracy = 0.0\n",
    "best_overall_loss = float('inf')\n",
    "best_model_state = None\n",
    "\n",
    "for fold, (train_idx, val_idx) in enumerate(kfold.split(df.index, df['label'])):\n",
    "    print(f'Fold {fold + 1}/{kfold.n_splits}\\n')\n",
    "\n",
    "    df_train, df_val = df.iloc[train_idx], df.iloc[val_idx]\n",
    "\n",
    "    train_dataset = DigitDataset(df_train.drop(['label'], axis=1), df_train['label'])\n",
    "    val_dataset = DigitDataset(df_val.drop(['label'], axis=1), df_val['label'])\n",
    "\n",
    "    train_data_loader = DataLoader(train_dataset, batch_size=64, shuffle=True)\n",
    "    val_data_loader = DataLoader(val_dataset, batch_size=64, shuffle=True)\n",
    "\n",
    "    model = DigitClassifier(len(classes))\n",
    "    model.to(device)\n",
    "\n",
    "    optimizer = optim.Adam(model.parameters(), lr=0.01)\n",
    "    scheduler = optim.lr_scheduler.StepLR(optimizer, step_size=3, gamma=0.5)\n",
    "    loss_fn = nn.CrossEntropyLoss()\n",
    "\n",
    "    best_val_loss = float('inf')\n",
    "    best_accuracy = 0  \n",
    "    best_epoch = 0\n",
    "\n",
    "    for epoch in range(EPOCHS):\n",
    "        model.train()\n",
    "        curr_loss = 0\n",
    "        for features, labels in train_data_loader:  \n",
    "            features, labels = features.to(device), labels.to(device)\n",
    "            optimizer.zero_grad()\n",
    "            outputs = model(features)\n",
    "\n",
    "            loss = loss_fn(outputs, labels)\n",
    "            loss.backward()\n",
    "            optimizer.step()\n",
    "\n",
    "            curr_loss += loss.item() * features.size(0)\n",
    "\n",
    "        train_loss = curr_loss / len(train_data_loader.dataset)\n",
    "        train_losses.append(train_loss)\n",
    "\n",
    "        model.eval()\n",
    "        curr_loss = 0\n",
    "        correct_predictions = 0\n",
    "\n",
    "        with torch.no_grad():\n",
    "            for features, labels in val_data_loader: \n",
    "                features, labels = features.to(device), labels.to(device)\n",
    "                outputs = model(features)\n",
    "                loss = loss_fn(outputs, labels)\n",
    "                curr_loss += loss.item() * features.size(0)\n",
    "                _, predicted = torch.max(outputs.data, 1)\n",
    "                correct_predictions += (predicted == labels).sum().item()\n",
    "\n",
    "        val_loss = curr_loss / len(val_data_loader.dataset)\n",
    "        val_losses.append(val_loss)\n",
    "        accuracy = correct_predictions / len(val_data_loader.dataset)\n",
    "\n",
    "        print(f'Epoch {epoch+1}/{EPOCHS} - Train Loss: {train_loss:.4f}, Validation Loss: {val_loss:.4f}, Accuracy: {accuracy:.4f}')\n",
    "\n",
    "        if val_loss < best_val_loss:\n",
    "            best_val_loss = val_loss\n",
    "            best_accuracy = accuracy\n",
    "            best_model_state = model.state_dict()\n",
    "            print(f'Model improved and saved at epoch {epoch+1} with validation loss: {val_loss:.4f}, accuracy: {accuracy:.4f}')\n",
    "\n",
    "        if accuracy > best_overall_accuracy or val_loss < best_overall_loss:\n",
    "            best_overall_accuracy = accuracy\n",
    "            best_overall_loss = val_loss\n",
    "            best_model_state = model.state_dict()\n",
    "\n",
    "        if epoch - best_epoch >= patience:\n",
    "            print('Patience limit reached. Stopping training.')\n",
    "            break\n",
    "        \n",
    "        scheduler.step()\n",
    "\n",
    "if best_model_state:\n",
    "    torch.save(best_model_state, 'best_model.bin')\n",
    "    print(\"Best model across all folds saved.\")\n"
   ]
  },
  {
   "cell_type": "code",
   "execution_count": 22,
   "id": "c457a846",
   "metadata": {
    "execution": {
     "iopub.execute_input": "2024-04-02T05:07:13.146003Z",
     "iopub.status.busy": "2024-04-02T05:07:13.145324Z",
     "iopub.status.idle": "2024-04-02T05:07:13.157081Z",
     "shell.execute_reply": "2024-04-02T05:07:13.156172Z"
    },
    "papermill": {
     "duration": 0.032856,
     "end_time": "2024-04-02T05:07:13.159150",
     "exception": false,
     "start_time": "2024-04-02T05:07:13.126294",
     "status": "completed"
    },
    "tags": []
   },
   "outputs": [
    {
     "data": {
      "text/plain": [
       "DigitClassifier(\n",
       "  (c1): Conv2d(1, 16, kernel_size=(5, 5), stride=(1, 1))\n",
       "  (c2): Conv2d(16, 32, kernel_size=(3, 3), stride=(1, 1))\n",
       "  (fc1): Linear(in_features=800, out_features=128, bias=True)\n",
       "  (fc2): Linear(in_features=128, out_features=10, bias=True)\n",
       "  (bn1): BatchNorm2d(16, eps=1e-05, momentum=0.1, affine=True, track_running_stats=True)\n",
       "  (bn2): BatchNorm2d(32, eps=1e-05, momentum=0.1, affine=True, track_running_stats=True)\n",
       "  (mp): MaxPool2d(kernel_size=(2, 2), stride=(2, 2), padding=0, dilation=1, ceil_mode=False)\n",
       "  (relu): ReLU()\n",
       "  (dropout): Dropout(p=0.3, inplace=False)\n",
       ")"
      ]
     },
     "execution_count": 22,
     "metadata": {},
     "output_type": "execute_result"
    }
   ],
   "source": [
    "best_model_path = 'best_model.bin'\n",
    "model.load_state_dict(torch.load(best_model_path))\n",
    "model.to(device) "
   ]
  },
  {
   "cell_type": "code",
   "execution_count": 23,
   "id": "d08a611b",
   "metadata": {
    "execution": {
     "iopub.execute_input": "2024-04-02T05:07:13.195687Z",
     "iopub.status.busy": "2024-04-02T05:07:13.195338Z",
     "iopub.status.idle": "2024-04-02T05:07:22.400446Z",
     "shell.execute_reply": "2024-04-02T05:07:22.399449Z"
    },
    "papermill": {
     "duration": 9.225876,
     "end_time": "2024-04-02T05:07:22.402518",
     "exception": false,
     "start_time": "2024-04-02T05:07:13.176642",
     "status": "completed"
    },
    "tags": []
   },
   "outputs": [
    {
     "data": {
      "text/plain": [
       "(0.9895238095238095, 0.03540444501612166)"
      ]
     },
     "execution_count": 23,
     "metadata": {},
     "output_type": "execute_result"
    }
   ],
   "source": [
    "def evaluate(data_loader):\n",
    "    model.eval()\n",
    "    \n",
    "    losses = []\n",
    "    correct_preds = 0\n",
    "    num_examples = 0  \n",
    "\n",
    "    with torch.no_grad():\n",
    "        for features, labels in data_loader:\n",
    "            features, labels = features.to(device), labels.to(device)\n",
    "            outputs = model(features)\n",
    "            _, preds = torch.max(outputs, dim=1)  \n",
    "            loss = loss_fn(outputs, labels)\n",
    "            \n",
    "            correct_preds += torch.sum(preds == labels).item()\n",
    "            losses.append(loss.item())\n",
    "            num_examples += labels.size(0) \n",
    "\n",
    "    average_loss = np.mean(losses)\n",
    "    accuracy = correct_preds / num_examples \n",
    "    \n",
    "    return accuracy, average_loss\n",
    "\n",
    "\n",
    "evaluate(test_loader)"
   ]
  },
  {
   "cell_type": "code",
   "execution_count": 24,
   "id": "71ead885",
   "metadata": {
    "execution": {
     "iopub.execute_input": "2024-04-02T05:07:22.440810Z",
     "iopub.status.busy": "2024-04-02T05:07:22.440118Z",
     "iopub.status.idle": "2024-04-02T05:07:22.446379Z",
     "shell.execute_reply": "2024-04-02T05:07:22.445452Z"
    },
    "papermill": {
     "duration": 0.027562,
     "end_time": "2024-04-02T05:07:22.448365",
     "exception": false,
     "start_time": "2024-04-02T05:07:22.420803",
     "status": "completed"
    },
    "tags": []
   },
   "outputs": [],
   "source": [
    "def predict(data_loader):\n",
    "    model.eval()\n",
    "    predictions = []\n",
    "\n",
    "    with torch.no_grad():\n",
    "        for features in data_loader:  \n",
    "            features = torch.tensor(features).to(device)\n",
    "            outputs = model(features)\n",
    "            _, preds = torch.max(outputs, dim=1)\n",
    "            predictions.append(preds.cpu())  \n",
    "    predictions = torch.cat(predictions, dim=0)\n",
    "    \n",
    "    return predictions"
   ]
  },
  {
   "cell_type": "code",
   "execution_count": 25,
   "id": "43b4131b",
   "metadata": {
    "execution": {
     "iopub.execute_input": "2024-04-02T05:07:22.486279Z",
     "iopub.status.busy": "2024-04-02T05:07:22.485450Z",
     "iopub.status.idle": "2024-04-02T05:07:26.174777Z",
     "shell.execute_reply": "2024-04-02T05:07:26.173985Z"
    },
    "papermill": {
     "duration": 3.710853,
     "end_time": "2024-04-02T05:07:26.177307",
     "exception": false,
     "start_time": "2024-04-02T05:07:22.466454",
     "status": "completed"
    },
    "tags": []
   },
   "outputs": [],
   "source": [
    "df_submit = pd.read_csv('/kaggle/input/digit-recognizer/test.csv')\n",
    "df_submit.loc[:, df_submit.columns != 'label'] = df_submit.loc[:, df_submit.columns != 'label'] / 255.0\n",
    "submit_dataset = DigitDataset(df_submit)\n",
    "submit_dataloader = DataLoader(submit_dataset, batch_size=64)"
   ]
  },
  {
   "cell_type": "code",
   "execution_count": 26,
   "id": "c431c282",
   "metadata": {
    "execution": {
     "iopub.execute_input": "2024-04-02T05:07:26.215267Z",
     "iopub.status.busy": "2024-04-02T05:07:26.214397Z",
     "iopub.status.idle": "2024-04-02T05:08:23.821284Z",
     "shell.execute_reply": "2024-04-02T05:08:23.820235Z"
    },
    "papermill": {
     "duration": 57.628363,
     "end_time": "2024-04-02T05:08:23.823754",
     "exception": false,
     "start_time": "2024-04-02T05:07:26.195391",
     "status": "completed"
    },
    "tags": []
   },
   "outputs": [],
   "source": [
    "predictions = predict(submit_dataloader)"
   ]
  },
  {
   "cell_type": "code",
   "execution_count": 27,
   "id": "9c2003de",
   "metadata": {
    "execution": {
     "iopub.execute_input": "2024-04-02T05:08:23.863786Z",
     "iopub.status.busy": "2024-04-02T05:08:23.862943Z",
     "iopub.status.idle": "2024-04-02T05:08:23.919874Z",
     "shell.execute_reply": "2024-04-02T05:08:23.919068Z"
    },
    "papermill": {
     "duration": 0.078433,
     "end_time": "2024-04-02T05:08:23.922080",
     "exception": false,
     "start_time": "2024-04-02T05:08:23.843647",
     "status": "completed"
    },
    "tags": []
   },
   "outputs": [],
   "source": [
    "predictions_list = predictions.tolist()\n",
    "df_submit['Label'] = predictions_list\n",
    "df_submit['ImageId'] = range(1, len(df_submit) + 1)\n",
    "df_submit = df_submit[['Label', 'ImageId']]\n",
    "df_submit.to_csv('submission.csv', index=False)"
   ]
  }
 ],
 "metadata": {
  "kaggle": {
   "accelerator": "gpu",
   "dataSources": [
    {
     "databundleVersionId": 861823,
     "sourceId": 3004,
     "sourceType": "competition"
    }
   ],
   "dockerImageVersionId": 30674,
   "isGpuEnabled": true,
   "isInternetEnabled": true,
   "language": "python",
   "sourceType": "notebook"
  },
  "kernelspec": {
   "display_name": "Python 3",
   "language": "python",
   "name": "python3"
  },
  "language_info": {
   "codemirror_mode": {
    "name": "ipython",
    "version": 3
   },
   "file_extension": ".py",
   "mimetype": "text/x-python",
   "name": "python",
   "nbconvert_exporter": "python",
   "pygments_lexer": "ipython3",
   "version": "3.10.13"
  },
  "papermill": {
   "default_parameters": {},
   "duration": 8747.051813,
   "end_time": "2024-04-02T05:08:26.677118",
   "environment_variables": {},
   "exception": null,
   "input_path": "__notebook__.ipynb",
   "output_path": "__notebook__.ipynb",
   "parameters": {},
   "start_time": "2024-04-02T02:42:39.625305",
   "version": "2.5.0"
  }
 },
 "nbformat": 4,
 "nbformat_minor": 5
}
